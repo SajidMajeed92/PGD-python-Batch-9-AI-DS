{
 "cells": [
  {
   "cell_type": "markdown",
   "id": "bb7110f8",
   "metadata": {},
   "source": [
    "# Opertors in Python"
   ]
  },
  {
   "cell_type": "raw",
   "id": "ffda7fb9",
   "metadata": {},
   "source": [
    "The Basic Type of opertors in python:\n",
    "1-Arithmatic operators\n",
    "2-Relationship operator"
   ]
  },
  {
   "cell_type": "code",
   "execution_count": 1,
   "id": "62db234d",
   "metadata": {},
   "outputs": [
    {
     "name": "stdout",
     "output_type": "stream",
     "text": [
      "False\n",
      "False\n",
      "False\n"
     ]
    }
   ],
   "source": [
    "print(2>3)\n",
    "print(4<2)\n",
    "print(4!=4)"
   ]
  },
  {
   "cell_type": "code",
   "execution_count": 2,
   "id": "7dcda842",
   "metadata": {},
   "outputs": [
    {
     "name": "stdout",
     "output_type": "stream",
     "text": [
      "Enter number1: 100\n",
      "Enter number2: 40\n",
      "The Result of the given numbers: True\n",
      "The Result of the given numbers: False\n",
      "The Result of the given numbers: False\n",
      "The Result of the given numbers: True\n",
      "The Result of the given numbers: True\n",
      "The Result of the given numbers: False\n"
     ]
    }
   ],
   "source": [
    "number1 = float(input(\"Enter number1: \"))\n",
    "number2 = float(input(\"Enter number2: \"))\n",
    "print('The Result of the given numbers:',number1>number2)\n",
    "print('The Result of the given numbers:',number1<number2)\n",
    "print('The Result of the given numbers:',number1==number2)\n",
    "print('The Result of the given numbers:',number1!=number2)\n",
    "print('The Result of the given numbers:',number1>=number2)\n",
    "print('The Result of the given numbers:',number1<=number2)"
   ]
  },
  {
   "cell_type": "code",
   "execution_count": 3,
   "id": "f180dc13",
   "metadata": {},
   "outputs": [
    {
     "name": "stdout",
     "output_type": "stream",
     "text": [
      "Enter number1: 30\n",
      "Enter number2: 7\n",
      "Enter number3: 9\n",
      "False\n"
     ]
    }
   ],
   "source": [
    "number1 = float(input(\"Enter number1: \"))\n",
    "number2 = float(input(\"Enter number2: \"))\n",
    "number3 = float(input(\"Enter number3: \"))\n",
    "\n",
    "print(number1>number2>number3)"
   ]
  },
  {
   "cell_type": "code",
   "execution_count": 4,
   "id": "7fde4f06",
   "metadata": {},
   "outputs": [
    {
     "data": {
      "text/plain": [
       "True"
      ]
     },
     "execution_count": 4,
     "metadata": {},
     "output_type": "execute_result"
    }
   ],
   "source": [
    "number1=True\n",
    "number2=True\n",
    "number2 and number1"
   ]
  },
  {
   "cell_type": "code",
   "execution_count": 5,
   "id": "329caab0",
   "metadata": {},
   "outputs": [
    {
     "data": {
      "text/plain": [
       "False"
      ]
     },
     "execution_count": 5,
     "metadata": {},
     "output_type": "execute_result"
    }
   ],
   "source": [
    "number1=False\n",
    "number2=False\n",
    "number2 or number1"
   ]
  },
  {
   "cell_type": "code",
   "execution_count": 6,
   "id": "27f94432",
   "metadata": {},
   "outputs": [
    {
     "data": {
      "text/plain": [
       "True"
      ]
     },
     "execution_count": 6,
     "metadata": {},
     "output_type": "execute_result"
    }
   ],
   "source": [
    "not number1"
   ]
  },
  {
   "cell_type": "code",
   "execution_count": 7,
   "id": "42ab157f",
   "metadata": {},
   "outputs": [
    {
     "name": "stdout",
     "output_type": "stream",
     "text": [
      "Enter first boolen Input: True\n",
      "Enter Second boolen Input: False\n",
      "The Result of 2 Inputs of AND gate is  True\n"
     ]
    }
   ],
   "source": [
    "number1 = bool(input(\"Enter first boolen Input: \"))\n",
    "number2 = bool(input(\"Enter Second boolen Input: \"))\n",
    "print(\"The Result of 2 Inputs of AND gate is \", number1 and number2)"
   ]
  },
  {
   "cell_type": "code",
   "execution_count": 14,
   "id": "7d75c99e",
   "metadata": {},
   "outputs": [
    {
     "data": {
      "text/plain": [
       "''"
      ]
     },
     "execution_count": 14,
     "metadata": {},
     "output_type": "execute_result"
    }
   ],
   "source": [
    "a = \"Python\"\n",
    "b = \"\"\n",
    "a and b"
   ]
  },
  {
   "cell_type": "code",
   "execution_count": 15,
   "id": "d7fd33e6",
   "metadata": {},
   "outputs": [
    {
     "data": {
      "text/plain": [
       "'Python'"
      ]
     },
     "execution_count": 15,
     "metadata": {},
     "output_type": "execute_result"
    }
   ],
   "source": [
    "a = \"\"\n",
    "b = \"Python\"\n",
    "a or b"
   ]
  },
  {
   "cell_type": "markdown",
   "id": "33e4780c",
   "metadata": {},
   "source": [
    "# Assignment Operators"
   ]
  },
  {
   "cell_type": "code",
   "execution_count": 25,
   "id": "4d3224ba",
   "metadata": {},
   "outputs": [
    {
     "name": "stdout",
     "output_type": "stream",
     "text": [
      "15\n"
     ]
    }
   ],
   "source": [
    "number = 10\n",
    "number+=5\n",
    "print(number)"
   ]
  },
  {
   "cell_type": "code",
   "execution_count": 27,
   "id": "5b4373f5",
   "metadata": {},
   "outputs": [
    {
     "data": {
      "text/plain": [
       "15"
      ]
     },
     "execution_count": 27,
     "metadata": {},
     "output_type": "execute_result"
    }
   ],
   "source": [
    "number =10\n",
    "number = number+5\n",
    "number"
   ]
  },
  {
   "cell_type": "code",
   "execution_count": 29,
   "id": "404878de",
   "metadata": {},
   "outputs": [
    {
     "name": "stdout",
     "output_type": "stream",
     "text": [
      "b = a:  15\n",
      "b += a:  30\n",
      "b -= a:  15\n",
      "b *= a:  225\n",
      "b /= a:  15.0\n",
      "b //= a:  1.0\n",
      "b %= a:  1.0\n",
      "b **= a:  1.0\n",
      "b <= a:  1.0\n",
      "b >= a:  1.0\n",
      "a &= 5:  5\n",
      "a |= 5:  5\n"
     ]
    }
   ],
   "source": [
    "# Assigning the values to variables\n",
    "a = 15\n",
    "b = 5\n",
    "# Simple assignment operator\n",
    "b = a\n",
    "print('b = a: ',b)\n",
    "# ADD AND operator\n",
    "b += a\n",
    "print('b += a: ', b)\n",
    "# SUBTRACT AND operatpr\n",
    "b -= a\n",
    "print('b -= a: ', b)\n",
    "# MULTIPLICATION AND operator\n",
    "b *= a\n",
    "print('b *= a: ', b)\n",
    "# DIVISION AND operator\n",
    "b /= a\n",
    "print('b /= a: ', b)\n",
    "# FLOOR AND operator\n",
    "b //= a\n",
    "print('b //= a: ', b)\n",
    "# MODULUS AND operator\n",
    "b %= a\n",
    "print('b %= a: ', b)\n",
    "# EXPONENT AND operator\n",
    "b **= a\n",
    "print('b **= a: ', b)\n",
    "# LESS THAN AND operator\n",
    "b <= a\n",
    "print('b <= a: ', b)\n",
    "# GREATOR THAN AND operator\n",
    "b >= a\n",
    "print('b >= a: ', b)\n",
    "# BINARY AND operator\n",
    "a &= 5\n",
    "print('a &= 5: ', a)\n",
    "# BINARY OR operator\n",
    "a |= 5\n",
    "print('a |= 5: ', a)"
   ]
  },
  {
   "cell_type": "code",
   "execution_count": 44,
   "id": "85221e55",
   "metadata": {},
   "outputs": [
    {
     "name": "stdout",
     "output_type": "stream",
     "text": [
      "True\n",
      "140731778607024\n",
      "140731778607024\n"
     ]
    }
   ],
   "source": [
    "a=5\n",
    "b=5\n",
    "print(a is b)\n",
    "print(id(a))\n",
    "print(id(b))"
   ]
  },
  {
   "cell_type": "code",
   "execution_count": 38,
   "id": "24d7d087",
   "metadata": {},
   "outputs": [
    {
     "data": {
      "text/plain": [
       "True"
      ]
     },
     "execution_count": 38,
     "metadata": {},
     "output_type": "execute_result"
    }
   ],
   "source": [
    "a=5\n",
    "b=4\n",
    "a is not b"
   ]
  },
  {
   "cell_type": "code",
   "execution_count": 53,
   "id": "44279714",
   "metadata": {},
   "outputs": [
    {
     "data": {
      "text/plain": [
       "True"
      ]
     },
     "execution_count": 53,
     "metadata": {},
     "output_type": "execute_result"
    }
   ],
   "source": [
    "x ='abc'\n",
    "x is x"
   ]
  },
  {
   "cell_type": "code",
   "execution_count": 54,
   "id": "c6b47c2a",
   "metadata": {},
   "outputs": [
    {
     "name": "stdout",
     "output_type": "stream",
     "text": [
      "True\n",
      "2171520152800\n",
      "2171520152720\n"
     ]
    }
   ],
   "source": [
    "a= 'today is saturday'\n",
    "b= 'today is saturday'\n",
    "print(a is a)\n",
    "print(id(a))\n",
    "print(id(b))"
   ]
  },
  {
   "cell_type": "code",
   "execution_count": 57,
   "id": "72e4f149",
   "metadata": {},
   "outputs": [],
   "source": [
    "name = [\"Farooq\",'Jibran','Ahmed','Aliza']"
   ]
  },
  {
   "cell_type": "code",
   "execution_count": 59,
   "id": "fff6e0a3",
   "metadata": {},
   "outputs": [
    {
     "data": {
      "text/plain": [
       "False"
      ]
     },
     "execution_count": 59,
     "metadata": {},
     "output_type": "execute_result"
    }
   ],
   "source": [
    "'Farooq' not in name"
   ]
  },
  {
   "cell_type": "code",
   "execution_count": 61,
   "id": "0675d3cc",
   "metadata": {},
   "outputs": [
    {
     "name": "stdout",
     "output_type": "stream",
     "text": [
      "<class 'str'>\n",
      "True\n",
      "False\n"
     ]
    }
   ],
   "source": [
    "# Assigning a string value to a variable\n",
    "a = \"Python\"\n",
    "# Type of the variable\n",
    "print(type(a))\n",
    "# Checking whether 'y' is present in the variable a or not\n",
    "print('y' in a)\n",
    "# Checking whether 'P' is present in the variable a or not\n",
    "print('P' not in a)"
   ]
  }
 ],
 "metadata": {
  "kernelspec": {
   "display_name": "Python 3",
   "language": "python",
   "name": "python3"
  },
  "language_info": {
   "codemirror_mode": {
    "name": "ipython",
    "version": 3
   },
   "file_extension": ".py",
   "mimetype": "text/x-python",
   "name": "python",
   "nbconvert_exporter": "python",
   "pygments_lexer": "ipython3",
   "version": "3.8.8"
  }
 },
 "nbformat": 4,
 "nbformat_minor": 5
}
