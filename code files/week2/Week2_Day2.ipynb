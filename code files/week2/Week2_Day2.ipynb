{
 "cells": [
  {
   "cell_type": "code",
   "execution_count": 1,
   "id": "75636b81",
   "metadata": {},
   "outputs": [],
   "source": [
    "# take an input from a user your  full name -> first name exist name \n",
    "#(in ,not in)  "
   ]
  },
  {
   "cell_type": "code",
   "execution_count": 2,
   "id": "b680741a",
   "metadata": {},
   "outputs": [],
   "source": [
    "# Other Data types in Python\n",
    "# 1- List\n",
    "# 2- Tuple\n",
    "# 3- Set\n",
    "# 4- Dictionary"
   ]
  },
  {
   "cell_type": "code",
   "execution_count": 3,
   "id": "f79ba449",
   "metadata": {},
   "outputs": [],
   "source": [
    "# Store collection of Data (multiple datatypes)\n",
    "# square brackets[]"
   ]
  },
  {
   "cell_type": "code",
   "execution_count": 1,
   "id": "0e619047",
   "metadata": {},
   "outputs": [
    {
     "name": "stdout",
     "output_type": "stream",
     "text": [
      "<class 'list'>\n",
      "Declearing an Empty List []\n"
     ]
    }
   ],
   "source": [
    "# Declearing an Empty List\n",
    "fruits = []\n",
    "print(type(fruits))\n",
    "print(\"Declearing an Empty List\",fruits)"
   ]
  },
  {
   "cell_type": "code",
   "execution_count": 5,
   "id": "f80d5708",
   "metadata": {},
   "outputs": [
    {
     "name": "stdout",
     "output_type": "stream",
     "text": [
      "<class 'list'>\n",
      "['Mango', 'Banana', 'grapes', 'Avacado', 'Berry']\n",
      "5\n"
     ]
    }
   ],
   "source": [
    "fruits = [\"Mango\",\"Banana\",\"grapes\",\"Avacado\",\"Berry\"]\n",
    "print(type(fruits))\n",
    "print(fruits)\n",
    "print(len(fruits))"
   ]
  },
  {
   "cell_type": "code",
   "execution_count": 6,
   "id": "116d87de",
   "metadata": {},
   "outputs": [
    {
     "name": "stdout",
     "output_type": "stream",
     "text": [
      "['Mango', 'Banana', 'grapes', 'Avacado', 'Berry', 'Apple']\n"
     ]
    }
   ],
   "source": [
    "# Adding elements in a list by using append\n",
    "fruits.append('Apple')\n",
    "print(fruits)"
   ]
  },
  {
   "cell_type": "code",
   "execution_count": 7,
   "id": "bee2a2ae",
   "metadata": {},
   "outputs": [
    {
     "name": "stdout",
     "output_type": "stream",
     "text": [
      "['Mango', 'Banana', 'grapes', 'Avacado', 'Berry', 'Apple', 'Dragon fruit']\n"
     ]
    }
   ],
   "source": [
    "fruits.append('Dragon fruit')\n",
    "print(fruits)"
   ]
  },
  {
   "cell_type": "code",
   "execution_count": 25,
   "id": "2b98161e",
   "metadata": {},
   "outputs": [
    {
     "name": "stdout",
     "output_type": "stream",
     "text": [
      "Mango\n",
      "Berry\n",
      "['Mango', 'Banana', 'grapes', 'Avacado', 'Berry', 'Apple', 'Dragon fruit']\n",
      "['Mango', 'Banana', 'grapes', 'Avacado']\n",
      "['Banana', 'grapes', 'Avacado', 'Berry', 'Apple']\n",
      "['Mango', 'grapes', 'Berry', 'Dragon fruit']\n",
      "['grapes', 'Berry', 'Dragon fruit']\n",
      "['Banana', 'Avacado', 'Apple']\n"
     ]
    }
   ],
   "source": [
    "# indexing always started with '0' [0,1,2,3,4,5,6]\n",
    "print(fruits[0])\n",
    "print(fruits[4])\n",
    "#print(fruits[])\n",
    "print(fruits[:])           # inclusive : exclusive\n",
    "print(fruits[0:4])\n",
    "print(fruits[1:6])\n",
    "print(fruits[0::2])            # inclusive:exclusive : step\n",
    "print(fruits[2::2])\n",
    "print(fruits[1:6:2])"
   ]
  },
  {
   "cell_type": "code",
   "execution_count": 33,
   "id": "08dbbe35",
   "metadata": {},
   "outputs": [
    {
     "name": "stdout",
     "output_type": "stream",
     "text": [
      "Dragon fruit\n",
      "grapes\n",
      "['grapes', 'Avacado', 'Berry', 'Apple']\n",
      "['Banana', 'Avacado', 'Apple']\n"
     ]
    }
   ],
   "source": [
    "# Negitive indexing [-4,-3,-2,-1]\n",
    "print(fruits[-1])\n",
    "print(fruits[-5])\n",
    "print(fruits[-5:-1])\n",
    "print(fruits[-6:-1:2])"
   ]
  },
  {
   "cell_type": "code",
   "execution_count": 34,
   "id": "bb8eb7fc",
   "metadata": {},
   "outputs": [
    {
     "name": "stdout",
     "output_type": "stream",
     "text": [
      "7\n"
     ]
    }
   ],
   "source": [
    "print(len(fruits))"
   ]
  },
  {
   "cell_type": "code",
   "execution_count": 35,
   "id": "401b777c",
   "metadata": {},
   "outputs": [
    {
     "data": {
      "text/plain": [
       "['Mango', 'Banana', 'grapes', 'Avacado', 'Berry', 'Apple', 'Dragon fruit']"
      ]
     },
     "execution_count": 35,
     "metadata": {},
     "output_type": "execute_result"
    }
   ],
   "source": [
    "fruits"
   ]
  },
  {
   "cell_type": "code",
   "execution_count": 37,
   "id": "b3b7aca9",
   "metadata": {},
   "outputs": [],
   "source": [
    "# Insert \n",
    "fruits.insert(1,'Apricot')"
   ]
  },
  {
   "cell_type": "code",
   "execution_count": 38,
   "id": "e448316b",
   "metadata": {},
   "outputs": [
    {
     "name": "stdout",
     "output_type": "stream",
     "text": [
      "['Mango', 'Apricot', 'Banana', 'grapes', 'Avacado', 'Berry', 'Apple', 'Dragon fruit']\n"
     ]
    }
   ],
   "source": [
    "print(fruits)"
   ]
  },
  {
   "cell_type": "code",
   "execution_count": 39,
   "id": "7874bd80",
   "metadata": {},
   "outputs": [
    {
     "name": "stdout",
     "output_type": "stream",
     "text": [
      "['Mango', 'Apricot', 'Banana', 'grapes', 'Avacado', 'water melon', 'Berry', 'Apple', 'Dragon fruit']\n"
     ]
    }
   ],
   "source": [
    "fruits.insert(5,'water melon')\n",
    "print(fruits)"
   ]
  },
  {
   "cell_type": "code",
   "execution_count": 40,
   "id": "6f52014b",
   "metadata": {},
   "outputs": [
    {
     "data": {
      "text/plain": [
       "9"
      ]
     },
     "execution_count": 40,
     "metadata": {},
     "output_type": "execute_result"
    }
   ],
   "source": [
    "len(fruits)"
   ]
  },
  {
   "cell_type": "code",
   "execution_count": 41,
   "id": "44513912",
   "metadata": {},
   "outputs": [
    {
     "ename": "IndexError",
     "evalue": "list index out of range",
     "output_type": "error",
     "traceback": [
      "\u001b[1;31m---------------------------------------------------------------------------\u001b[0m",
      "\u001b[1;31mIndexError\u001b[0m                                Traceback (most recent call last)",
      "\u001b[1;32m<ipython-input-41-0b16e99fd67f>\u001b[0m in \u001b[0;36m<module>\u001b[1;34m\u001b[0m\n\u001b[1;32m----> 1\u001b[1;33m \u001b[0mfruits\u001b[0m\u001b[1;33m[\u001b[0m\u001b[1;36m10\u001b[0m\u001b[1;33m]\u001b[0m\u001b[1;33m\u001b[0m\u001b[1;33m\u001b[0m\u001b[0m\n\u001b[0m",
      "\u001b[1;31mIndexError\u001b[0m: list index out of range"
     ]
    }
   ],
   "source": [
    "fruits[10]"
   ]
  },
  {
   "cell_type": "code",
   "execution_count": 42,
   "id": "fe3b6fa1",
   "metadata": {},
   "outputs": [
    {
     "data": {
      "text/plain": [
       "['Mango',\n",
       " 'Apricot',\n",
       " 'Banana',\n",
       " 'grapes',\n",
       " 'Avacado',\n",
       " 'water melon',\n",
       " 'Berry',\n",
       " 'Apple',\n",
       " 'Dragon fruit']"
      ]
     },
     "execution_count": 42,
     "metadata": {},
     "output_type": "execute_result"
    }
   ],
   "source": [
    "fruits"
   ]
  },
  {
   "cell_type": "code",
   "execution_count": 43,
   "id": "e8ea323e",
   "metadata": {},
   "outputs": [
    {
     "name": "stdout",
     "output_type": "stream",
     "text": [
      "['Mango', 'Apricot', 'Banana', 'grapes', 'Avacado', 'water melon', 'Berry', 'Apple']\n"
     ]
    }
   ],
   "source": [
    "# pop always delete an element from the end\n",
    "fruits.pop()\n",
    "print(fruits)"
   ]
  },
  {
   "cell_type": "code",
   "execution_count": 44,
   "id": "5251bcdc",
   "metadata": {},
   "outputs": [
    {
     "name": "stdout",
     "output_type": "stream",
     "text": [
      "['Apricot', 'Banana', 'grapes', 'Avacado', 'water melon', 'Berry', 'Apple']\n"
     ]
    }
   ],
   "source": [
    "fruits.pop(0)\n",
    "print(fruits)"
   ]
  },
  {
   "cell_type": "code",
   "execution_count": 45,
   "id": "606dae7b",
   "metadata": {},
   "outputs": [],
   "source": [
    "fruits.remove('grapes')"
   ]
  },
  {
   "cell_type": "code",
   "execution_count": 46,
   "id": "82875034",
   "metadata": {},
   "outputs": [
    {
     "data": {
      "text/plain": [
       "['Apricot', 'Banana', 'Avacado', 'water melon', 'Berry', 'Apple']"
      ]
     },
     "execution_count": 46,
     "metadata": {},
     "output_type": "execute_result"
    }
   ],
   "source": [
    "fruits"
   ]
  },
  {
   "cell_type": "code",
   "execution_count": 47,
   "id": "c38fda9c",
   "metadata": {},
   "outputs": [
    {
     "ename": "TypeError",
     "evalue": "'str' object cannot be interpreted as an integer",
     "output_type": "error",
     "traceback": [
      "\u001b[1;31m---------------------------------------------------------------------------\u001b[0m",
      "\u001b[1;31mTypeError\u001b[0m                                 Traceback (most recent call last)",
      "\u001b[1;32m<ipython-input-47-20b113f7e806>\u001b[0m in \u001b[0;36m<module>\u001b[1;34m\u001b[0m\n\u001b[1;32m----> 1\u001b[1;33m \u001b[0mfruits\u001b[0m\u001b[1;33m.\u001b[0m\u001b[0mpop\u001b[0m\u001b[1;33m(\u001b[0m\u001b[1;34m'Berry'\u001b[0m\u001b[1;33m)\u001b[0m\u001b[1;33m\u001b[0m\u001b[1;33m\u001b[0m\u001b[0m\n\u001b[0m\u001b[0;32m      2\u001b[0m \u001b[0mfruits\u001b[0m\u001b[1;33m\u001b[0m\u001b[1;33m\u001b[0m\u001b[0m\n",
      "\u001b[1;31mTypeError\u001b[0m: 'str' object cannot be interpreted as an integer"
     ]
    }
   ],
   "source": [
    "fruits.pop('Berry')\n",
    "fruits"
   ]
  },
  {
   "cell_type": "code",
   "execution_count": 51,
   "id": "67b75b7c",
   "metadata": {},
   "outputs": [
    {
     "data": {
      "text/plain": [
       "['Apricot', 'Banana', 'Avacado', 'water melon', 'Berry', 'Apple']"
      ]
     },
     "execution_count": 51,
     "metadata": {},
     "output_type": "execute_result"
    }
   ],
   "source": [
    "fruits"
   ]
  },
  {
   "cell_type": "code",
   "execution_count": 52,
   "id": "de061a0f",
   "metadata": {},
   "outputs": [
    {
     "data": {
      "text/plain": [
       "['melon', 'mango', 'kiwi']"
      ]
     },
     "execution_count": 52,
     "metadata": {},
     "output_type": "execute_result"
    }
   ],
   "source": [
    "fruits_in_summer=['melon','mango','kiwi']\n",
    "fruits_in_summer"
   ]
  },
  {
   "cell_type": "code",
   "execution_count": 53,
   "id": "6d7344f5",
   "metadata": {},
   "outputs": [
    {
     "name": "stdout",
     "output_type": "stream",
     "text": [
      "['Apricot', 'Banana', 'Avacado', 'water melon', 'Berry', 'Apple', ['melon', 'mango', 'kiwi']]\n"
     ]
    }
   ],
   "source": [
    "fruits.append(fruits_in_summer)\n",
    "print(fruits)"
   ]
  },
  {
   "cell_type": "code",
   "execution_count": 83,
   "id": "b4d6b8ab",
   "metadata": {},
   "outputs": [
    {
     "name": "stdout",
     "output_type": "stream",
     "text": [
      "Apple\n",
      "['melon', 'mango', 'kiwi']\n",
      "['mango', 'kiwi']\n",
      "kiwi\n",
      "['melon', 'kiwi']\n"
     ]
    }
   ],
   "source": [
    "print(fruits[5])\n",
    "print(fruits[6])\n",
    "print(fruits[6][1:])\n",
    "print(fruits[6][2])\n",
    "print(fruits[6][0:3:2])"
   ]
  },
  {
   "cell_type": "code",
   "execution_count": 84,
   "id": "d7981365",
   "metadata": {},
   "outputs": [
    {
     "name": "stdout",
     "output_type": "stream",
     "text": [
      "['Apricot', 'Banana', 'Avacado', 'water melon', 'Berry', 'Apple', ['melon', 'mango', 'kiwi']]\n"
     ]
    }
   ],
   "source": [
    "print(fruits)"
   ]
  },
  {
   "cell_type": "code",
   "execution_count": 97,
   "id": "357f3331",
   "metadata": {},
   "outputs": [
    {
     "name": "stdout",
     "output_type": "stream",
     "text": [
      "1\n",
      "1\n"
     ]
    }
   ],
   "source": [
    "print(fruits.count('Berry'))\n",
    "print(fruits[6].count('kiwi'))"
   ]
  },
  {
   "cell_type": "code",
   "execution_count": 105,
   "id": "37821f63",
   "metadata": {},
   "outputs": [
    {
     "name": "stdout",
     "output_type": "stream",
     "text": [
      "['Apricot', 'Banana', 'Avacado', 'water melon', 'Berry', 'Apple', ['melon', 'mango', 'kiwi']]\n"
     ]
    }
   ],
   "source": [
    "fruits.reverse()\n",
    "print(fruits)"
   ]
  },
  {
   "cell_type": "code",
   "execution_count": 48,
   "id": "6b5a0e46",
   "metadata": {},
   "outputs": [],
   "source": [
    "# create a list\n",
    "prime_numbers = [2, 3, 5, 7, 9, 11]\n",
    "\n",
    "# remove 9 from the list\n",
    "prime_numbers.remove(9)"
   ]
  },
  {
   "cell_type": "code",
   "execution_count": 49,
   "id": "c1a789dc",
   "metadata": {},
   "outputs": [
    {
     "data": {
      "text/plain": [
       "[2, 3, 5, 7, 11]"
      ]
     },
     "execution_count": 49,
     "metadata": {},
     "output_type": "execute_result"
    }
   ],
   "source": [
    "prime_numbers"
   ]
  },
  {
   "cell_type": "code",
   "execution_count": 50,
   "id": "6ffc7f3b",
   "metadata": {},
   "outputs": [
    {
     "ename": "IndexError",
     "evalue": "pop index out of range",
     "output_type": "error",
     "traceback": [
      "\u001b[1;31m---------------------------------------------------------------------------\u001b[0m",
      "\u001b[1;31mIndexError\u001b[0m                                Traceback (most recent call last)",
      "\u001b[1;32m<ipython-input-50-1c3dc5b00da4>\u001b[0m in \u001b[0;36m<module>\u001b[1;34m\u001b[0m\n\u001b[1;32m----> 1\u001b[1;33m \u001b[0mprime_numbers\u001b[0m\u001b[1;33m.\u001b[0m\u001b[0mpop\u001b[0m\u001b[1;33m(\u001b[0m\u001b[1;36m9\u001b[0m\u001b[1;33m)\u001b[0m\u001b[1;33m\u001b[0m\u001b[1;33m\u001b[0m\u001b[0m\n\u001b[0m",
      "\u001b[1;31mIndexError\u001b[0m: pop index out of range"
     ]
    }
   ],
   "source": [
    "prime_numbers.pop(9)"
   ]
  },
  {
   "cell_type": "code",
   "execution_count": null,
   "id": "3b8923b4",
   "metadata": {},
   "outputs": [],
   "source": []
  }
 ],
 "metadata": {
  "kernelspec": {
   "display_name": "Python 3",
   "language": "python",
   "name": "python3"
  },
  "language_info": {
   "codemirror_mode": {
    "name": "ipython",
    "version": 3
   },
   "file_extension": ".py",
   "mimetype": "text/x-python",
   "name": "python",
   "nbconvert_exporter": "python",
   "pygments_lexer": "ipython3",
   "version": "3.8.8"
  }
 },
 "nbformat": 4,
 "nbformat_minor": 5
}
