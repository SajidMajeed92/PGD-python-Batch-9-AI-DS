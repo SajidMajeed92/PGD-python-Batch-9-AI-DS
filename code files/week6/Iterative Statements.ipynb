{
 "cells": [
  {
   "cell_type": "code",
   "execution_count": 12,
   "id": "6f4707c4",
   "metadata": {},
   "outputs": [
    {
     "name": "stdout",
     "output_type": "stream",
     "text": [
      "Guess the Number75\n",
      "Guess Higher\n",
      "Guess the Number80\n",
      "Guess Higher\n",
      "Guess the Number90\n",
      "Guess Lower\n",
      "Guess the Number85\n",
      "Guess Higher\n",
      "Guess the Number86\n",
      "Guess Higher\n",
      "Guess the Number87\n",
      "Guess Higher\n",
      "Guess the Number88\n",
      "Guess Higher\n",
      "Guess the Number89\n",
      "Correct Guess\n",
      "Number of turns taken by user 8\n"
     ]
    }
   ],
   "source": [
    "# Guess Game\n",
    "import random\n",
    "jackpot= random.randint(1,100)\n",
    "guess_num = int(input(\"Guess the Number\"))\n",
    "counter=1\n",
    "while guess_num!=jackpot:\n",
    "    if guess_num<jackpot:\n",
    "        print(\"Guess Higher\")\n",
    "    else:\n",
    "        print(\"Guess Lower\")\n",
    "    guess_num = int(input(\"Guess the Number\"))\n",
    "    counter=counter+1\n",
    "else:\n",
    "    print(\"Correct Guess\")\n",
    "    print(\"Number of turns taken by user\",counter)"
   ]
  },
  {
   "cell_type": "code",
   "execution_count": 35,
   "id": "de3e669b",
   "metadata": {},
   "outputs": [
    {
     "name": "stdout",
     "output_type": "stream",
     "text": [
      "4\n"
     ]
    }
   ],
   "source": [
    "import random\n",
    "num = random.randint(1,10)\n",
    "print(num)"
   ]
  },
  {
   "cell_type": "markdown",
   "id": "5ed3d8c6",
   "metadata": {},
   "source": [
    "# For Loop"
   ]
  },
  {
   "cell_type": "code",
   "execution_count": 40,
   "id": "0df17035",
   "metadata": {},
   "outputs": [
    {
     "name": "stdout",
     "output_type": "stream",
     "text": [
      "A\n",
      "h\n",
      "m\n",
      "e\n",
      "d\n"
     ]
    }
   ],
   "source": [
    "fruit=['Apple',\"cherry\",'Banana']\n",
    "name=\"Ahmed\"\n",
    "for num in name :\n",
    "    print(num)"
   ]
  },
  {
   "cell_type": "code",
   "execution_count": 52,
   "id": "3875206f",
   "metadata": {},
   "outputs": [
    {
     "name": "stdout",
     "output_type": "stream",
     "text": [
      "('brand', 'Ford')\n",
      "('model', 'Mustang')\n",
      "('year', 1964)\n"
     ]
    }
   ],
   "source": [
    "dict={\"brand\": \"Ford\",\"model\": \"Mustang\",\"year\": 1964}\n",
    "for item in dict.items():\n",
    "    print(item)"
   ]
  },
  {
   "cell_type": "code",
   "execution_count": 53,
   "id": "8b5fa30c",
   "metadata": {},
   "outputs": [
    {
     "name": "stdout",
     "output_type": "stream",
     "text": [
      "1 50\n",
      "2 45\n",
      "3 55\n"
     ]
    }
   ],
   "source": [
    "dict= {1:50,2:45,3:55}\n",
    "for num in dict:\n",
    "    print (num,dict[num])"
   ]
  },
  {
   "cell_type": "code",
   "execution_count": 54,
   "id": "d9072a7a",
   "metadata": {},
   "outputs": [
    {
     "name": "stdout",
     "output_type": "stream",
     "text": [
      "brand Ford\n",
      "model Mustang\n",
      "year 1964\n"
     ]
    }
   ],
   "source": [
    "dict={\"brand\": \"Ford\",\"model\": \"Mustang\",\"year\": 1964}\n",
    "for item in dict:\n",
    "    print(item,dict[item])"
   ]
  },
  {
   "cell_type": "code",
   "execution_count": 63,
   "id": "22079438",
   "metadata": {},
   "outputs": [
    {
     "name": "stdout",
     "output_type": "stream",
     "text": [
      "10 Year Ago: 10000\n",
      "9 Year Ago: 9091\n",
      "8 Year Ago: 8265\n",
      "7 Year Ago: 7514\n",
      "6 Year Ago: 6831\n",
      "5 Year Ago: 6210\n",
      "4 Year Ago: 5645\n",
      "3 Year Ago: 5132\n",
      "2 Year Ago: 4665\n",
      "1 Year Ago: 4241\n"
     ]
    }
   ],
   "source": [
    "# Program - The current population of a town is 10000. The population of the town is increasing at the rate of 10% per year. \n",
    "# You have to write a program to find out the population at the end of each of the last 10 years.\n",
    "curr_pop = 10000\n",
    "for year in range(10,0,-1):\n",
    "    print(year,\"Year Ago:\",curr_pop)\n",
    "    curr_pop=round(curr_pop/1.1)"
   ]
  },
  {
   "cell_type": "markdown",
   "id": "0505335d",
   "metadata": {},
   "source": [
    "# Nested Loop"
   ]
  },
  {
   "cell_type": "code",
   "execution_count": 67,
   "id": "e2a06366",
   "metadata": {},
   "outputs": [
    {
     "name": "stdout",
     "output_type": "stream",
     "text": [
      "1 1\n",
      "1 2\n",
      "1 3\n",
      "1 4\n",
      "2 1\n",
      "2 2\n",
      "2 3\n",
      "2 4\n"
     ]
    }
   ],
   "source": [
    "for i in range(1,3):\n",
    "    for j in range(1,5):\n",
    "        print(i,j)"
   ]
  },
  {
   "cell_type": "code",
   "execution_count": 88,
   "id": "295c9a9a",
   "metadata": {},
   "outputs": [
    {
     "name": "stdout",
     "output_type": "stream",
     "text": [
      "Enter No of rows for pattern4\n",
      "*\n",
      "**\n",
      "***\n",
      "****\n"
     ]
    }
   ],
   "source": [
    "# Pattern 1\n",
    "# *\n",
    "# **\n",
    "# ***\n",
    "# ****\n",
    "rows = int(input(\"Enter No of rows for pattern\"))\n",
    "for i in range(1,rows+1):\n",
    "    for j in range(1,i+1):\n",
    "        print('*',end='')\n",
    "    print()"
   ]
  },
  {
   "cell_type": "code",
   "execution_count": 107,
   "id": "782ff87e",
   "metadata": {},
   "outputs": [
    {
     "name": "stdout",
     "output_type": "stream",
     "text": [
      "*\n",
      "**\n",
      "***\n"
     ]
    }
   ],
   "source": [
    "print('*')\n",
    "print('*',end='')\n",
    "print('*')\n",
    "print('*',end='')\n",
    "print('*',end='')\n",
    "print('*')"
   ]
  },
  {
   "cell_type": "code",
   "execution_count": null,
   "id": "9992967f",
   "metadata": {},
   "outputs": [],
   "source": []
  }
 ],
 "metadata": {
  "kernelspec": {
   "display_name": "Python 3",
   "language": "python",
   "name": "python3"
  },
  "language_info": {
   "codemirror_mode": {
    "name": "ipython",
    "version": 3
   },
   "file_extension": ".py",
   "mimetype": "text/x-python",
   "name": "python",
   "nbconvert_exporter": "python",
   "pygments_lexer": "ipython3",
   "version": "3.8.8"
  }
 },
 "nbformat": 4,
 "nbformat_minor": 5
}
