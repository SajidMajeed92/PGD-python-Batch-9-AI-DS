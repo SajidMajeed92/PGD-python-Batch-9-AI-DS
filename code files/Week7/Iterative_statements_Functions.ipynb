{
 "cells": [
  {
   "cell_type": "code",
   "execution_count": 1,
   "id": "204663fb-9f56-43c6-a39d-d85b83d77bf8",
   "metadata": {},
   "outputs": [],
   "source": [
    "def welcome():\n",
    "    print(\"Good Morning Ali, Have a Nice day\")"
   ]
  },
  {
   "cell_type": "code",
   "execution_count": 2,
   "id": "9d93ccff-b337-4826-821a-a2dab9401d93",
   "metadata": {},
   "outputs": [
    {
     "name": "stdout",
     "output_type": "stream",
     "text": [
      "Good Morning Ali, Have a Nice day\n"
     ]
    }
   ],
   "source": [
    "welcome()"
   ]
  },
  {
   "cell_type": "code",
   "execution_count": 3,
   "id": "ecd11ecd-17f7-4608-98d8-997012c7038c",
   "metadata": {},
   "outputs": [
    {
     "name": "stdout",
     "output_type": "stream",
     "text": [
      "Good Morning  Farooq  Have a Nice day\n"
     ]
    }
   ],
   "source": [
    "def welcome(name):\n",
    "    print(\"Good Morning \",name,\" Have a Nice day\")\n",
    "welcome(\"Farooq\")"
   ]
  },
  {
   "cell_type": "code",
   "execution_count": 4,
   "id": "96888ed9-9c81-49b1-90de-ccead62ed342",
   "metadata": {},
   "outputs": [
    {
     "name": "stdin",
     "output_type": "stream",
     "text": [
      "Enter your Name:  sajid\n"
     ]
    },
    {
     "name": "stdout",
     "output_type": "stream",
     "text": [
      "Good Morning  sajid  Have a Nice day\n"
     ]
    }
   ],
   "source": [
    "def welcome(name):\n",
    "    print(\"Good Morning \",name,\" Have a Nice day\")\n",
    "name = input(\"Enter your Name: \")\n",
    "welcome(name)"
   ]
  },
  {
   "cell_type": "code",
   "execution_count": 5,
   "id": "10fbe89b-a069-4767-adc5-2095747ae661",
   "metadata": {},
   "outputs": [
    {
     "name": "stdin",
     "output_type": "stream",
     "text": [
      "Enter number1 2\n",
      "Enter number2 3\n"
     ]
    },
    {
     "data": {
      "text/plain": [
       "5"
      ]
     },
     "execution_count": 5,
     "metadata": {},
     "output_type": "execute_result"
    }
   ],
   "source": [
    "def add():\n",
    "    nm1=int(input(\"Enter number1\"))\n",
    "    nm2=int(input(\"Enter number2\"))\n",
    "    sum =nm1+nm2\n",
    "    return sum\n",
    "add()"
   ]
  },
  {
   "cell_type": "code",
   "execution_count": 6,
   "id": "836cabd4-7509-4338-b460-020d3d91a27a",
   "metadata": {},
   "outputs": [
    {
     "name": "stdin",
     "output_type": "stream",
     "text": [
      "Enter Number you want to check 10\n",
      "Enter Number you want to check 20\n",
      "Enter Number you want to check 30\n",
      "Enter Number you want to check 40\n"
     ]
    },
    {
     "ename": "NameError",
     "evalue": "name 'num' is not defined",
     "output_type": "error",
     "traceback": [
      "\u001b[1;31m---------------------------------------------------------------------------\u001b[0m",
      "\u001b[1;31mNameError\u001b[0m                                 Traceback (most recent call last)",
      "Cell \u001b[1;32mIn[6], line 10\u001b[0m\n\u001b[0;32m      8\u001b[0m num3\u001b[38;5;241m=\u001b[39m \u001b[38;5;28mint\u001b[39m(\u001b[38;5;28minput\u001b[39m(\u001b[38;5;124m\"\u001b[39m\u001b[38;5;124mEnter Number you want to check\u001b[39m\u001b[38;5;124m\"\u001b[39m))\n\u001b[0;32m      9\u001b[0m num4\u001b[38;5;241m=\u001b[39m \u001b[38;5;28mint\u001b[39m(\u001b[38;5;28minput\u001b[39m(\u001b[38;5;124m\"\u001b[39m\u001b[38;5;124mEnter Number you want to check\u001b[39m\u001b[38;5;124m\"\u001b[39m))\n\u001b[1;32m---> 10\u001b[0m num_even()\n",
      "Cell \u001b[1;32mIn[6], line 2\u001b[0m, in \u001b[0;36mnum_even\u001b[1;34m()\u001b[0m\n\u001b[0;32m      1\u001b[0m \u001b[38;5;28;01mdef\u001b[39;00m \u001b[38;5;21mnum_even\u001b[39m():\n\u001b[1;32m----> 2\u001b[0m     \u001b[38;5;28;01mif\u001b[39;00m num\u001b[38;5;241m%\u001b[39m\u001b[38;5;241m2\u001b[39m\u001b[38;5;241m==\u001b[39m\u001b[38;5;241m0\u001b[39m:\n\u001b[0;32m      3\u001b[0m         \u001b[38;5;28mprint\u001b[39m(\u001b[38;5;124m\"\u001b[39m\u001b[38;5;124mNum is even\u001b[39m\u001b[38;5;124m\"\u001b[39m,num)\n\u001b[0;32m      4\u001b[0m     \u001b[38;5;28;01melse\u001b[39;00m:\n",
      "\u001b[1;31mNameError\u001b[0m: name 'num' is not defined"
     ]
    }
   ],
   "source": [
    "def num_even():\n",
    "    if num%2==0:\n",
    "        print(\"Num is even\",num)\n",
    "    else:\n",
    "        print(\"Num is Odd\")\n",
    "num1 = int(input(\"Enter Number you want to check\"))\n",
    "num2= int(input(\"Enter Number you want to check\"))\n",
    "num3= int(input(\"Enter Number you want to check\"))\n",
    "num= int(input(\"Enter Number you want to check\"))\n",
    "num_even()"
   ]
  },
  {
   "cell_type": "code",
   "execution_count": null,
   "id": "f353335e-e990-44d8-9c39-29c1ff02e557",
   "metadata": {},
   "outputs": [],
   "source": [
    "name=\"sajid\"\n",
    "name.count('s')"
   ]
  },
  {
   "cell_type": "code",
   "execution_count": 11,
   "id": "317ddcd5-eb7b-488d-9b1a-599d549037cd",
   "metadata": {},
   "outputs": [
    {
     "name": "stdin",
     "output_type": "stream",
     "text": [
      "Enter Radius of a circle: 10\n"
     ]
    },
    {
     "data": {
      "text/plain": [
       "(314.2, 62.839999999999996)"
      ]
     },
     "execution_count": 11,
     "metadata": {},
     "output_type": "execute_result"
    }
   ],
   "source": [
    "def area_and_circumference_of_circle(radius):\n",
    "    pi=3.142\n",
    "    area = pi*radius**2\n",
    "    circumference = 2*pi*radius\n",
    "    return area,circumference\n",
    "radius = float(input(\"Enter Radius of a circle:\"))\n",
    "area_and_circumference_of_circle(radius)"
   ]
  },
  {
   "cell_type": "code",
   "execution_count": null,
   "id": "b5dcac0f-b92f-466d-9bb8-9995f092c1b3",
   "metadata": {},
   "outputs": [],
   "source": []
  }
 ],
 "metadata": {
  "kernelspec": {
   "display_name": "Python 3 (ipykernel)",
   "language": "python",
   "name": "python3"
  },
  "language_info": {
   "codemirror_mode": {
    "name": "ipython",
    "version": 3
   },
   "file_extension": ".py",
   "mimetype": "text/x-python",
   "name": "python",
   "nbconvert_exporter": "python",
   "pygments_lexer": "ipython3",
   "version": "3.12.4"
  }
 },
 "nbformat": 4,
 "nbformat_minor": 5
}
