{
 "cells": [
  {
   "cell_type": "code",
   "execution_count": 11,
   "id": "ae3a4380",
   "metadata": {},
   "outputs": [
    {
     "name": "stdout",
     "output_type": "stream",
     "text": [
      "Enter your age: 19\n",
      "you can cast a vote and your age is greater then 18\n",
      "I am outside if block\n"
     ]
    }
   ],
   "source": [
    "# Condtional statements\n",
    "# if ,else\n",
    "age=int(input(\"Enter your age: \"))\n",
    "if age>18:\n",
    "    print(\"you can cast a vote and your age is greater then 18\")\n",
    "elif age ==18:\n",
    "    print(\"you are 18 year old\")\n",
    "else:\n",
    "    print(\"You can not cast a vote\")\n",
    "print(\"I am outside if block\")"
   ]
  },
  {
   "cell_type": "code",
   "execution_count": null,
   "id": "d0bae349",
   "metadata": {},
   "outputs": [],
   "source": []
  }
 ],
 "metadata": {
  "kernelspec": {
   "display_name": "Python 3",
   "language": "python",
   "name": "python3"
  },
  "language_info": {
   "codemirror_mode": {
    "name": "ipython",
    "version": 3
   },
   "file_extension": ".py",
   "mimetype": "text/x-python",
   "name": "python",
   "nbconvert_exporter": "python",
   "pygments_lexer": "ipython3",
   "version": "3.8.8"
  }
 },
 "nbformat": 4,
 "nbformat_minor": 5
}
