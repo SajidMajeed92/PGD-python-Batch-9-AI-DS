{
 "cells": [
  {
   "cell_type": "code",
   "execution_count": 11,
   "id": "ae3a4380",
   "metadata": {},
   "outputs": [
    {
     "name": "stdout",
     "output_type": "stream",
     "text": [
      "Enter your age: 19\n",
      "you can cast a vote and your age is greater then 18\n",
      "I am outside if block\n"
     ]
    }
   ],
   "source": [
    "# Condtional statements\n",
    "# if ,else\n",
    "age=int(input(\"Enter your age: \"))\n",
    "if age>18:\n",
    "    print(\"you can cast a vote and your age is greater then 18\")\n",
    "elif age ==18:\n",
    "    print(\"you are 18 year old\")\n",
    "else:\n",
    "    print(\"You can not cast a vote\")\n",
    "print(\"I am outside if block\")"
   ]
  },
  {
   "cell_type": "code",
   "execution_count": 5,
   "id": "d0bae349",
   "metadata": {},
   "outputs": [
    {
     "name": "stdout",
     "output_type": "stream",
     "text": [
      "Enter your Name: MrFarooq\n",
      "username length is Good\n"
     ]
    }
   ],
   "source": [
    "user_name = input(\"Enter your Name: \")\n",
    "if len(user_name) >10 :\n",
    "    print(\"username is too Big\")\n",
    "elif len(user_name) ==8:\n",
    "    print(\"username length is Good\")\n",
    "else:\n",
    "    print(\"user name is Good\")"
   ]
  },
  {
   "cell_type": "code",
   "execution_count": 8,
   "id": "b3655d1f",
   "metadata": {},
   "outputs": [
    {
     "name": "stdout",
     "output_type": "stream",
     "text": [
      "Enter Number1 :50\n",
      "Enter Number2 :60\n",
      "Enter Number3 :40\n",
      "Number2 is largest 60\n"
     ]
    }
   ],
   "source": [
    "number1 = int(input(\"Enter Number1 :\"))\n",
    "number2 = int(input(\"Enter Number2 :\"))\n",
    "number3 = int(input(\"Enter Number3 :\"))\n",
    "if number1>number2 and number1>number3:\n",
    "    print(\"Number1 is largest \",number1)\n",
    "elif number2> number3:\n",
    "    print(\"Number2 is largest\",number2)\n",
    "else:\n",
    "    print(\"Number3 is largest\",number3)"
   ]
  },
  {
   "cell_type": "code",
   "execution_count": 30,
   "id": "9ca09dd4",
   "metadata": {},
   "outputs": [
    {
     "name": "stdout",
     "output_type": "stream",
     "text": [
      "Enter your Number-10\n",
      "Enter a valid number.\n"
     ]
    }
   ],
   "source": [
    "user_input = input(\"Enter your Number\")\n",
    "if user_input.replace(\".\",\"\").isdigit():\n",
    "  # Check if input is a digit\n",
    "    num = float(user_input)\n",
    "    if num<0:\n",
    "        print(\"Number is NEGITIVE\")\n",
    "    elif num==0:\n",
    "        print(\"Number is zero\")\n",
    "    else:\n",
    "        print(\"Number is Positive\")\n",
    "else:\n",
    "    print(\"Enter a valid number.\")"
   ]
  },
  {
   "cell_type": "code",
   "execution_count": null,
   "id": "cc59eff3",
   "metadata": {},
   "outputs": [],
   "source": []
  },
  {
   "cell_type": "code",
   "execution_count": null,
   "id": "e12abdc9",
   "metadata": {},
   "outputs": [],
   "source": []
  }
 ],
 "metadata": {
  "kernelspec": {
   "display_name": "Python 3",
   "language": "python",
   "name": "python3"
  },
  "language_info": {
   "codemirror_mode": {
    "name": "ipython",
    "version": 3
   },
   "file_extension": ".py",
   "mimetype": "text/x-python",
   "name": "python",
   "nbconvert_exporter": "python",
   "pygments_lexer": "ipython3",
   "version": "3.8.8"
  }
 },
 "nbformat": 4,
 "nbformat_minor": 5
}
