{
 "cells": [
  {
   "cell_type": "code",
   "execution_count": 1,
   "id": "dd7c8e13",
   "metadata": {},
   "outputs": [],
   "source": [
    "# Dictionaries are used to store data values in key:value pairs.\n",
    "# A dictionary is a collection which is ordered*, \n",
    "# changeable and do not allow duplicates.\n",
    "# key value pair {:}\n",
    "# mutable\n",
    "# key always be imutable\n",
    "# key always be unique"
   ]
  },
  {
   "cell_type": "code",
   "execution_count": 2,
   "id": "16d8a8e2",
   "metadata": {},
   "outputs": [
    {
     "name": "stdout",
     "output_type": "stream",
     "text": [
      "<class 'dict'>\n"
     ]
    }
   ],
   "source": [
    "emp_d={}\n",
    "print(type(emp_d))"
   ]
  },
  {
   "cell_type": "code",
   "execution_count": 3,
   "id": "4c7ad3b6",
   "metadata": {},
   "outputs": [
    {
     "name": "stdout",
     "output_type": "stream",
     "text": [
      "{'Name': 'Sajid', 'Gender': 'Male', 'Skills': ['Data Science', 'ML', 'AI'], 'Age': 31}\n",
      "<class 'dict'>\n"
     ]
    }
   ],
   "source": [
    "person = {'Name':'Sajid',\n",
    "          'Gender':'Male',\n",
    "          'Skills':['Data Science','ML','AI'],\n",
    "          'Age':31}\n",
    "print(person)\n",
    "print(type(person))"
   ]
  },
  {
   "cell_type": "code",
   "execution_count": 4,
   "id": "378ac5e0",
   "metadata": {},
   "outputs": [
    {
     "data": {
      "text/plain": [
       "dict_keys(['Name', 'Gender', 'Skills', 'Age'])"
      ]
     },
     "execution_count": 4,
     "metadata": {},
     "output_type": "execute_result"
    }
   ],
   "source": [
    "# Keys of a dictionary\n",
    "person.keys()"
   ]
  },
  {
   "cell_type": "code",
   "execution_count": 5,
   "id": "a94f0ba9",
   "metadata": {},
   "outputs": [
    {
     "data": {
      "text/plain": [
       "dict_values(['Sajid', 'Male', ['Data Science', 'ML', 'AI'], 31])"
      ]
     },
     "execution_count": 5,
     "metadata": {},
     "output_type": "execute_result"
    }
   ],
   "source": [
    "# Values in your dictionary \n",
    "person.values()"
   ]
  },
  {
   "cell_type": "code",
   "execution_count": 6,
   "id": "6b75de4f",
   "metadata": {},
   "outputs": [
    {
     "data": {
      "text/plain": [
       "dict_items([('Name', 'Sajid'), ('Gender', 'Male'), ('Skills', ['Data Science', 'ML', 'AI']), ('Age', 31)])"
      ]
     },
     "execution_count": 6,
     "metadata": {},
     "output_type": "execute_result"
    }
   ],
   "source": [
    "# keys and values together\n",
    "person.items()"
   ]
  },
  {
   "cell_type": "code",
   "execution_count": 7,
   "id": "a3f92172",
   "metadata": {},
   "outputs": [
    {
     "data": {
      "text/plain": [
       "['Data Science', 'ML', 'AI']"
      ]
     },
     "execution_count": 7,
     "metadata": {},
     "output_type": "execute_result"
    }
   ],
   "source": [
    "person.get('Skills')"
   ]
  },
  {
   "cell_type": "code",
   "execution_count": 8,
   "id": "12ca37ec",
   "metadata": {},
   "outputs": [
    {
     "name": "stdout",
     "output_type": "stream",
     "text": [
      "{'Name': 'Sajid', 'Gender': 'Male', 'Marks': {'Python': 70, 'JS': 75, 'Java': 89}, 'Age': 31}\n",
      "<class 'dict'>\n"
     ]
    }
   ],
   "source": [
    "person1 = {'Name':'Sajid',\n",
    "          'Gender':'Male',\n",
    "          'Marks':{'Python':70,'JS':75,'Java':89},\n",
    "          'Age':31}\n",
    "print(person1)\n",
    "print(type(person1))"
   ]
  },
  {
   "cell_type": "code",
   "execution_count": 9,
   "id": "1ca1125b",
   "metadata": {},
   "outputs": [
    {
     "data": {
      "text/plain": [
       "89"
      ]
     },
     "execution_count": 9,
     "metadata": {},
     "output_type": "execute_result"
    }
   ],
   "source": [
    "person1.get('Marks')['Java']"
   ]
  },
  {
   "cell_type": "code",
   "execution_count": 10,
   "id": "06d30621",
   "metadata": {},
   "outputs": [
    {
     "name": "stdout",
     "output_type": "stream",
     "text": [
      "4\n",
      "4\n"
     ]
    }
   ],
   "source": [
    "print(len(person))\n",
    "print(len(person1))"
   ]
  },
  {
   "cell_type": "code",
   "execution_count": 11,
   "id": "bad5158a",
   "metadata": {},
   "outputs": [
    {
     "name": "stdout",
     "output_type": "stream",
     "text": [
      "{'Name': 'Sajid', 'Gender': 'Male', 'Skills': ['Data Science', 'ML', 'AI'], 'Age': 31, 'Marks': {'Python': 70, 'JS': 75, 'Java': 89}}\n"
     ]
    }
   ],
   "source": [
    "person.update(person1)\n",
    "print(person)"
   ]
  },
  {
   "cell_type": "code",
   "execution_count": 12,
   "id": "8613496b",
   "metadata": {},
   "outputs": [],
   "source": [
    "person['Organization']='Institute of Space Technology'"
   ]
  },
  {
   "cell_type": "code",
   "execution_count": 13,
   "id": "a350485c",
   "metadata": {},
   "outputs": [
    {
     "name": "stdout",
     "output_type": "stream",
     "text": [
      "{'Name': 'Sajid', 'Gender': 'Male', 'Skills': ['Data Science', 'ML', 'AI'], 'Age': 31, 'Marks': {'Python': 70, 'JS': 75, 'Java': 89}, 'Organization': 'Institute of Space Technology'}\n"
     ]
    }
   ],
   "source": [
    "print(person)"
   ]
  },
  {
   "cell_type": "code",
   "execution_count": 14,
   "id": "83282443",
   "metadata": {},
   "outputs": [
    {
     "name": "stdout",
     "output_type": "stream",
     "text": [
      "{'Name': 'Sajid', 'Gender': 'Male', 'Skills': ['Data Science', 'ML', 'AI'], 'Age': 31, 'Marks': {'Python': 70, 'JS': 75, 'Java': 89}, 'Organization': 'Institute of Space Technology', 'Roll': 32, 'Address': 'Pakistan'}\n"
     ]
    }
   ],
   "source": [
    "person.update({'Roll':32,'Address':'Pakistan'})\n",
    "print(person)"
   ]
  },
  {
   "cell_type": "code",
   "execution_count": 15,
   "id": "5de8b9ae",
   "metadata": {},
   "outputs": [
    {
     "data": {
      "text/plain": [
       "75"
      ]
     },
     "execution_count": 15,
     "metadata": {},
     "output_type": "execute_result"
    }
   ],
   "source": [
    "person.get('Marks')['JS']"
   ]
  },
  {
   "cell_type": "code",
   "execution_count": 16,
   "id": "f33672b3",
   "metadata": {},
   "outputs": [
    {
     "data": {
      "text/plain": [
       "['Address', 'Age', 'Gender', 'Marks', 'Name', 'Organization', 'Roll', 'Skills']"
      ]
     },
     "execution_count": 16,
     "metadata": {},
     "output_type": "execute_result"
    }
   ],
   "source": [
    "sorted(person)"
   ]
  },
  {
   "cell_type": "code",
   "execution_count": 17,
   "id": "7b14cfbc",
   "metadata": {},
   "outputs": [
    {
     "data": {
      "text/plain": [
       "'Male'"
      ]
     },
     "execution_count": 17,
     "metadata": {},
     "output_type": "execute_result"
    }
   ],
   "source": [
    "person.pop('Gender')"
   ]
  },
  {
   "cell_type": "code",
   "execution_count": 18,
   "id": "7eb7eac5",
   "metadata": {},
   "outputs": [
    {
     "data": {
      "text/plain": [
       "{'Name': 'Sajid',\n",
       " 'Skills': ['Data Science', 'ML', 'AI'],\n",
       " 'Age': 31,\n",
       " 'Marks': {'Python': 70, 'JS': 75, 'Java': 89},\n",
       " 'Organization': 'Institute of Space Technology',\n",
       " 'Roll': 32,\n",
       " 'Address': 'Pakistan'}"
      ]
     },
     "execution_count": 18,
     "metadata": {},
     "output_type": "execute_result"
    }
   ],
   "source": [
    "person"
   ]
  },
  {
   "cell_type": "code",
   "execution_count": 19,
   "id": "7751ac29",
   "metadata": {},
   "outputs": [
    {
     "ename": "KeyError",
     "evalue": "'Pakistan'",
     "output_type": "error",
     "traceback": [
      "\u001b[1;31m---------------------------------------------------------------------------\u001b[0m",
      "\u001b[1;31mKeyError\u001b[0m                                  Traceback (most recent call last)",
      "\u001b[1;32m<ipython-input-19-139523cac43c>\u001b[0m in \u001b[0;36m<module>\u001b[1;34m\u001b[0m\n\u001b[0;32m      1\u001b[0m \u001b[1;31m# working with keys\u001b[0m\u001b[1;33m\u001b[0m\u001b[1;33m\u001b[0m\u001b[1;33m\u001b[0m\u001b[0m\n\u001b[1;32m----> 2\u001b[1;33m \u001b[0mperson\u001b[0m\u001b[1;33m.\u001b[0m\u001b[0mpop\u001b[0m\u001b[1;33m(\u001b[0m\u001b[1;34m'Pakistan'\u001b[0m\u001b[1;33m)\u001b[0m\u001b[1;33m\u001b[0m\u001b[1;33m\u001b[0m\u001b[0m\n\u001b[0m",
      "\u001b[1;31mKeyError\u001b[0m: 'Pakistan'"
     ]
    }
   ],
   "source": [
    "# working with keys\n",
    "person.pop('Pakistan')"
   ]
  },
  {
   "cell_type": "code",
   "execution_count": 20,
   "id": "870444d2",
   "metadata": {},
   "outputs": [
    {
     "data": {
      "text/plain": [
       "('Address', 'Pakistan')"
      ]
     },
     "execution_count": 20,
     "metadata": {},
     "output_type": "execute_result"
    }
   ],
   "source": [
    "person.popitem()"
   ]
  },
  {
   "cell_type": "code",
   "execution_count": 21,
   "id": "f6d4625a",
   "metadata": {},
   "outputs": [
    {
     "data": {
      "text/plain": [
       "{'Name': 'Sajid',\n",
       " 'Skills': ['Data Science', 'ML', 'AI'],\n",
       " 'Age': 31,\n",
       " 'Marks': {'Python': 70, 'JS': 75, 'Java': 89},\n",
       " 'Organization': 'Institute of Space Technology',\n",
       " 'Roll': 32}"
      ]
     },
     "execution_count": 21,
     "metadata": {},
     "output_type": "execute_result"
    }
   ],
   "source": [
    "person"
   ]
  },
  {
   "cell_type": "code",
   "execution_count": 28,
   "id": "32321a8e",
   "metadata": {},
   "outputs": [
    {
     "name": "stdout",
     "output_type": "stream",
     "text": [
      "Farooq\n"
     ]
    },
    {
     "data": {
      "text/plain": [
       "{'brand': 'Ford', 'teacher': 'Farooq', 'year': 1964}"
      ]
     },
     "execution_count": 28,
     "metadata": {},
     "output_type": "execute_result"
    }
   ],
   "source": [
    "python = {\n",
    "  \"brand\": \"Ford\",\n",
    "  'teacher':'Farooq',\n",
    "  \"year\": 1964\n",
    "}\n",
    "x = python.setdefault(\"teacher\", \"Sajid\")\n",
    "\n",
    "print(x)\n",
    "python"
   ]
  },
  {
   "cell_type": "code",
   "execution_count": 29,
   "id": "5a2884e4",
   "metadata": {},
   "outputs": [
    {
     "name": "stdout",
     "output_type": "stream",
     "text": [
      "['__doc__', '__loader__', '__name__', '__package__', '__spec__', 'acos', 'acosh', 'asin', 'asinh', 'atan', 'atan2', 'atanh', 'ceil', 'comb', 'copysign', 'cos', 'cosh', 'degrees', 'dist', 'e', 'erf', 'erfc', 'exp', 'expm1', 'fabs', 'factorial', 'floor', 'fmod', 'frexp', 'fsum', 'gamma', 'gcd', 'hypot', 'inf', 'isclose', 'isfinite', 'isinf', 'isnan', 'isqrt', 'ldexp', 'lgamma', 'log', 'log10', 'log1p', 'log2', 'modf', 'nan', 'perm', 'pi', 'pow', 'prod', 'radians', 'remainder', 'sin', 'sinh', 'sqrt', 'tan', 'tanh', 'tau', 'trunc']\n"
     ]
    }
   ],
   "source": [
    "import math\n",
    "print(dir(math))"
   ]
  },
  {
   "cell_type": "code",
   "execution_count": 32,
   "id": "fdb74c89",
   "metadata": {},
   "outputs": [
    {
     "data": {
      "text/plain": [
       "4"
      ]
     },
     "execution_count": 32,
     "metadata": {},
     "output_type": "execute_result"
    }
   ],
   "source": [
    "math.ceil(3.5)"
   ]
  },
  {
   "cell_type": "code",
   "execution_count": 33,
   "id": "740e8a00",
   "metadata": {},
   "outputs": [
    {
     "data": {
      "text/plain": [
       "4.0"
      ]
     },
     "execution_count": 33,
     "metadata": {},
     "output_type": "execute_result"
    }
   ],
   "source": [
    "math.sqrt(16)"
   ]
  },
  {
   "cell_type": "code",
   "execution_count": 37,
   "id": "743c4b58",
   "metadata": {},
   "outputs": [
    {
     "data": {
      "text/plain": [
       "8.0"
      ]
     },
     "execution_count": 37,
     "metadata": {},
     "output_type": "execute_result"
    }
   ],
   "source": [
    "math.pow(2,3)"
   ]
  },
  {
   "cell_type": "code",
   "execution_count": 39,
   "id": "384dce64",
   "metadata": {},
   "outputs": [
    {
     "data": {
      "text/plain": [
       "720"
      ]
     },
     "execution_count": 39,
     "metadata": {},
     "output_type": "execute_result"
    }
   ],
   "source": [
    "math.factorial(6)"
   ]
  },
  {
   "cell_type": "code",
   "execution_count": 40,
   "id": "69f6c277",
   "metadata": {},
   "outputs": [
    {
     "data": {
      "text/plain": [
       "['AddPackagePath',\n",
       " 'EXTENDED_ARG',\n",
       " 'IMPORT_NAME',\n",
       " 'LOAD_CONST',\n",
       " 'Module',\n",
       " 'ModuleFinder',\n",
       " 'ReplacePackage',\n",
       " 'STORE_GLOBAL',\n",
       " 'STORE_NAME',\n",
       " 'STORE_OPS',\n",
       " '_C_BUILTIN',\n",
       " '_C_EXTENSION',\n",
       " '_PKG_DIRECTORY',\n",
       " '_PY_COMPILED',\n",
       " '_PY_FROZEN',\n",
       " '_PY_SOURCE',\n",
       " '_SEARCH_ERROR',\n",
       " '__builtins__',\n",
       " '__cached__',\n",
       " '__doc__',\n",
       " '__file__',\n",
       " '__loader__',\n",
       " '__name__',\n",
       " '__package__',\n",
       " '__spec__',\n",
       " '_find_module',\n",
       " 'dis',\n",
       " 'importlib',\n",
       " 'io',\n",
       " 'marshal',\n",
       " 'os',\n",
       " 'packagePathMap',\n",
       " 'replacePackageMap',\n",
       " 'sys',\n",
       " 'test',\n",
       " 'types',\n",
       " 'warnings']"
      ]
     },
     "execution_count": 40,
     "metadata": {},
     "output_type": "execute_result"
    }
   ],
   "source": [
    "import modulefinder\n",
    "dir(modulefinder)"
   ]
  },
  {
   "cell_type": "code",
   "execution_count": 44,
   "id": "08a53a31",
   "metadata": {},
   "outputs": [
    {
     "name": "stdout",
     "output_type": "stream",
     "text": [
      "['__all__', '__builtins__', '__cached__', '__doc__', '__file__', '__loader__', '__name__', '__package__', '__spec__', 'iskeyword', 'kwlist']\n"
     ]
    }
   ],
   "source": [
    "\n",
    "import keyword\n",
    "print(dir(keyword))"
   ]
  },
  {
   "cell_type": "code",
   "execution_count": 45,
   "id": "b50288a2",
   "metadata": {},
   "outputs": [],
   "source": [
    "import random"
   ]
  },
  {
   "cell_type": "code",
   "execution_count": 51,
   "id": "a9061cbc",
   "metadata": {},
   "outputs": [
    {
     "data": {
      "text/plain": [
       "12"
      ]
     },
     "execution_count": 51,
     "metadata": {},
     "output_type": "execute_result"
    }
   ],
   "source": [
    "random.randint(1,15)"
   ]
  }
 ],
 "metadata": {
  "kernelspec": {
   "display_name": "Python 3",
   "language": "python",
   "name": "python3"
  },
  "language_info": {
   "codemirror_mode": {
    "name": "ipython",
    "version": 3
   },
   "file_extension": ".py",
   "mimetype": "text/x-python",
   "name": "python",
   "nbconvert_exporter": "python",
   "pygments_lexer": "ipython3",
   "version": "3.8.8"
  }
 },
 "nbformat": 4,
 "nbformat_minor": 5
}
