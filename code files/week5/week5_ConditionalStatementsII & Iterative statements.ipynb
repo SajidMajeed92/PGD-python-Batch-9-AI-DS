{
 "cells": [
  {
   "cell_type": "code",
   "execution_count": 4,
   "id": "075040b3",
   "metadata": {},
   "outputs": [
    {
     "name": "stdout",
     "output_type": "stream",
     "text": [
      "Enter your username: sajid@gmail.com\n",
      "Enter your password:12345\n",
      "welcome Sajid\n"
     ]
    }
   ],
   "source": [
    "#username = 'sajid@gmail.com' and password = \"12345\"\n",
    "username = input(\"Enter your username: \")\n",
    "password = input(\"Enter your password:\")\n",
    "if username=='sajid@gmail.com' and password=='12345':\n",
    "    print(\"welcome Sajid\")\n",
    "elif username=='sajid@gmail.com' and password!='12345':\n",
    "    print(\"Password is incorrect. Re-Enter your password\")\n",
    "    password = input(\"Enter password Again: \")\n",
    "    if password=='12345':\n",
    "        print(\"Now Welcome After one Attempt\")\n",
    "    else:\n",
    "        print(\"Your password is Incorrect\")\n",
    "else:\n",
    "    print(\"Enter correct credentials\")"
   ]
  },
  {
   "cell_type": "code",
   "execution_count": 8,
   "id": "b2912ebb",
   "metadata": {},
   "outputs": [
    {
     "name": "stdout",
     "output_type": "stream",
     "text": [
      "Enter your username: sajidgmail.com\n",
      "Enter Valid Email\n"
     ]
    }
   ],
   "source": [
    "username = input(\"Enter your username: \")\n",
    "if '@' in username:\n",
    "    password = input(\"Enter your password:\")\n",
    "    if username=='sajid@gmail.com' and password=='12345':\n",
    "        print(\"welcome Sajid\")\n",
    "    elif username=='sajid@gmail.com' and password!='12345':\n",
    "        print(\"Password is incorrect. Re-Enter your password\")\n",
    "        password = input(\"Enter password Again: \")\n",
    "        if password=='12345':\n",
    "            print(\"Now Welcome After one Attempt\")\n",
    "        else:\n",
    "            print(\"Your password is Incorrect\")\n",
    "    else:\n",
    "        print(\"Enter correct credentials\")\n",
    "else:\n",
    "    print(\"Enter Valid Email\")"
   ]
  },
  {
   "cell_type": "code",
   "execution_count": null,
   "id": "96e9bd54",
   "metadata": {},
   "outputs": [],
   "source": [
    "# Takes no of unit from a comsumer\n",
    "# if no of unit less then 150 , perunit charge =15 , fixcharges = 250\n",
    "# if no of unit greater then 150 and less then 250 , per-uc =25 , fc = 350\n",
    "# if no of unit greater then 250 and less then 350 , per-uc =35 , fc = 450\n",
    "# if no of unit greater then 350  , per-uc =45 , fc = 1000\n",
    "# Total bill = amoutpay (no of unit consumed * cost of a unit) +fc"
   ]
  },
  {
   "cell_type": "code",
   "execution_count": 12,
   "id": "2c7c154c",
   "metadata": {},
   "outputs": [
    {
     "name": "stdout",
     "output_type": "stream",
     "text": [
      "Enter the number of electricity units consumed: 200\n",
      "Your electricity bill is: 5350\n"
     ]
    }
   ],
   "source": [
    "# For Electricity bill calculation\n",
    "units = int(input(\"Enter the number of electricity units consumed: \"))\n",
    "if units < 150:\n",
    "    charge_per_unit = 15\n",
    "    fixed_charges = 250\n",
    "elif units> 150 and units < 250:\n",
    "    charge_per_unit = 25\n",
    "    fixed_charges = 350\n",
    "elif units> 250 and units < 350:\n",
    "    charge_per_unit = 35\n",
    "    fixed_charges = 450\n",
    "else:\n",
    "    charge_per_unit = 45\n",
    "    fixed_charges = 1000\n",
    "total_bill = (units * charge_per_unit) + fixed_charges\n",
    "print(\"Your electricity bill is:\", total_bill)"
   ]
  },
  {
   "cell_type": "code",
   "execution_count": 25,
   "id": "c844c6c9",
   "metadata": {},
   "outputs": [
    {
     "name": "stdout",
     "output_type": "stream",
     "text": [
      "Enter your desired Number: 34\n",
      "Enter your desired Number: 34\n",
      "\n",
      "1-Addition\n",
      "2-Substraction\n",
      "3-Multiplication\n",
      "4-Division\n",
      "5\n",
      "Select Number from a given option List\n"
     ]
    }
   ],
   "source": [
    "# Menu Driven program\n",
    "number1=float(input(\"Enter your desired Number: \")) \n",
    "number2=float(input(\"Enter your desired Number: \"))\n",
    "option = input('''\n",
    "1-Addition\n",
    "2-Substraction\n",
    "3-Multiplication\n",
    "4-Division\n",
    "''')\n",
    "if option =='1':\n",
    "    print(\"Addition of\",number1,\"and\",number2,\"is:\",number1+number2)\n",
    "elif option =='2':\n",
    "    print(\"Difference of\",number1,\"and\",number2,\"is:\",number1-number2)\n",
    "elif option =='3':\n",
    "    print(\"Product of\",number1,\"and\",number2,\"is:\",number1*number2)\n",
    "elif option =='4':\n",
    "    print(\"Division of\",number1,\"and\",number2,\"is:\",number1/number2)\n",
    "else:\n",
    "    print(\"Select Number from a given option List\")"
   ]
  },
  {
   "cell_type": "markdown",
   "id": "93dc8d73",
   "metadata": {},
   "source": [
    "# Iterative Statements"
   ]
  },
  {
   "cell_type": "code",
   "execution_count": 38,
   "id": "426454be",
   "metadata": {},
   "outputs": [
    {
     "name": "stdout",
     "output_type": "stream",
     "text": [
      "1\n",
      "We are learning Python\n",
      "2\n",
      "We are learning Python\n",
      "3\n",
      "We are learning Python\n",
      "4\n",
      "We are learning Python\n",
      "I am out of loop\n"
     ]
    }
   ],
   "source": [
    "# while (condition):\n",
    "    # body of a while \n",
    "# outside the body of a while\n",
    "\n",
    "i=1\n",
    "while i<5:\n",
    "    print(i)\n",
    "    print(\"We are learning Python\")\n",
    "    i+=1\n",
    "print(\"I am out of loop\")"
   ]
  },
  {
   "cell_type": "code",
   "execution_count": 41,
   "id": "345dc529",
   "metadata": {},
   "outputs": [
    {
     "name": "stdout",
     "output_type": "stream",
     "text": [
      "Enter your desied Number:5\n",
      "5 * 1 = 5\n",
      "5 * 2 = 10\n",
      "5 * 3 = 15\n",
      "5 * 4 = 20\n",
      "5 * 5 = 25\n",
      "5 * 6 = 30\n",
      "5 * 7 = 35\n",
      "5 * 8 = 40\n",
      "5 * 9 = 45\n",
      "5 * 10 = 50\n"
     ]
    }
   ],
   "source": [
    "# take a no from a user and print it's table\n",
    "# 12 * 1 = 12\n",
    "# 12 *2 = 24\n",
    "number = int(input(\"Enter your desied Number:\"))\n",
    "i=1\n",
    "while i<11:\n",
    "    print(number,\"*\",i,\"=\" ,number*i)\n",
    "    i+=1"
   ]
  },
  {
   "cell_type": "code",
   "execution_count": 49,
   "id": "7263324b",
   "metadata": {},
   "outputs": [
    {
     "name": "stdout",
     "output_type": "stream",
     "text": [
      "1\n",
      "2\n",
      "3\n"
     ]
    }
   ],
   "source": [
    "i=1\n",
    "while i<10:\n",
    "    print(i)\n",
    "    if i==3:\n",
    "        break\n",
    "    i+=1"
   ]
  },
  {
   "cell_type": "code",
   "execution_count": 47,
   "id": "23b09127",
   "metadata": {},
   "outputs": [
    {
     "name": "stdout",
     "output_type": "stream",
     "text": [
      "1\n",
      "2\n",
      "limit crossed\n"
     ]
    }
   ],
   "source": [
    "# while loop with else \n",
    "x = 1\n",
    "while x < 3:\n",
    "  print(x)\n",
    "  x += 1\n",
    "else:\n",
    "  print('limit crossed')"
   ]
  },
  {
   "cell_type": "code",
   "execution_count": 54,
   "id": "92c884c5",
   "metadata": {},
   "outputs": [
    {
     "name": "stdout",
     "output_type": "stream",
     "text": [
      "20\n",
      "30\n",
      "40\n",
      "60\n",
      "70\n",
      "80\n"
     ]
    }
   ],
   "source": [
    "num = 10\n",
    "while num<100:\n",
    "    num=num+10\n",
    "    if num==50:\n",
    "        continue\n",
    "    if num ==90:\n",
    "        break\n",
    "    print(num)"
   ]
  },
  {
   "cell_type": "code",
   "execution_count": null,
   "id": "1c5d9a51",
   "metadata": {},
   "outputs": [],
   "source": []
  }
 ],
 "metadata": {
  "kernelspec": {
   "display_name": "Python 3",
   "language": "python",
   "name": "python3"
  },
  "language_info": {
   "codemirror_mode": {
    "name": "ipython",
    "version": 3
   },
   "file_extension": ".py",
   "mimetype": "text/x-python",
   "name": "python",
   "nbconvert_exporter": "python",
   "pygments_lexer": "ipython3",
   "version": "3.8.8"
  }
 },
 "nbformat": 4,
 "nbformat_minor": 5
}
