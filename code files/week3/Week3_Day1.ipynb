{
 "cells": [
  {
   "cell_type": "code",
   "execution_count": 37,
   "id": "a845dccb",
   "metadata": {},
   "outputs": [
    {
     "name": "stdout",
     "output_type": "stream",
     "text": [
      "['Mango', 'Orange', 'Pineapple', 'Apple']\n",
      "['Papaya', 'Grapefruit', 'Guava', 'Pomegranate']\n",
      "['Banana', 'Blueberry', 'Watermelon', 'Peach']\n"
     ]
    }
   ],
   "source": [
    "# create three lists \n",
    "# append second list to first list\n",
    "# insert third list at index 0\n",
    "favourite_fruit = [\"Mango\", \"Orange\", \"Pineapple\", \"Apple\"]\n",
    "not_favourite = [\"Papaya\", \"Grapefruit\", \"Guava\", \"Pomegranate\"]\n",
    "occasionally_taken = [\"Banana\", \"Blueberry\", \"Watermelon\", \"Peach\"]\n",
    "print(favourite_fruit)\n",
    "print(not_favourite)\n",
    "print(occasionally_taken)"
   ]
  },
  {
   "cell_type": "code",
   "execution_count": 23,
   "id": "1990291c",
   "metadata": {},
   "outputs": [
    {
     "name": "stdout",
     "output_type": "stream",
     "text": [
      "['Mango', 'Orange', 'Pineapple', 'Apple', ['Papaya', 'Grapefruit', 'Guava', 'Pomegranate']]\n"
     ]
    }
   ],
   "source": [
    "favourite_fruit.append(not_favourite)\n",
    "print(favourite_fruit)"
   ]
  },
  {
   "cell_type": "code",
   "execution_count": 24,
   "id": "e5e25665",
   "metadata": {},
   "outputs": [
    {
     "name": "stdout",
     "output_type": "stream",
     "text": [
      "[['Banana', 'Blueberry', 'Watermelon', 'Peach'], 'Mango', 'Orange', 'Pineapple', 'Apple', ['Papaya', 'Grapefruit', 'Guava', 'Pomegranate']]\n"
     ]
    }
   ],
   "source": [
    "favourite_fruit.insert(0,occasionally_taken)\n",
    "print(favourite_fruit)"
   ]
  },
  {
   "cell_type": "code",
   "execution_count": 4,
   "id": "573e7834",
   "metadata": {},
   "outputs": [
    {
     "data": {
      "text/plain": [
       "[['Banana', 'Blueberry', 'Watermelon', 'Peach'],\n",
       " 'Mango',\n",
       " 'Orange',\n",
       " 'Pineapple',\n",
       " 'Apple',\n",
       " ['Papaya', 'Grapefruit', 'Guava', 'Pomegranate']]"
      ]
     },
     "execution_count": 4,
     "metadata": {},
     "output_type": "execute_result"
    }
   ],
   "source": [
    "favourite_fruit"
   ]
  },
  {
   "cell_type": "code",
   "execution_count": 5,
   "id": "45db14a8",
   "metadata": {},
   "outputs": [
    {
     "data": {
      "text/plain": [
       "['Papaya', 'Grapefruit', 'Guava', 'Pomegranate']"
      ]
     },
     "execution_count": 5,
     "metadata": {},
     "output_type": "execute_result"
    }
   ],
   "source": [
    "favourite_fruit[5]"
   ]
  },
  {
   "cell_type": "code",
   "execution_count": 8,
   "id": "11e5680a",
   "metadata": {},
   "outputs": [
    {
     "data": {
      "text/plain": [
       "['Grapefruit', 'Guava']"
      ]
     },
     "execution_count": 8,
     "metadata": {},
     "output_type": "execute_result"
    }
   ],
   "source": [
    "favourite_fruit[5][1:3]"
   ]
  },
  {
   "cell_type": "code",
   "execution_count": 13,
   "id": "a8bbf869",
   "metadata": {},
   "outputs": [
    {
     "data": {
      "text/plain": [
       "1"
      ]
     },
     "execution_count": 13,
     "metadata": {},
     "output_type": "execute_result"
    }
   ],
   "source": [
    "favourite_fruit.count('Apple')"
   ]
  },
  {
   "cell_type": "code",
   "execution_count": 14,
   "id": "6f825aa8",
   "metadata": {},
   "outputs": [
    {
     "name": "stdout",
     "output_type": "stream",
     "text": [
      "[['Papaya', 'Grapefruit', 'Guava', 'Pomegranate'], 'Apple', 'Pineapple', 'Orange', 'Mango', ['Banana', 'Blueberry', 'Watermelon', 'Peach']]\n"
     ]
    }
   ],
   "source": [
    "favourite_fruit.reverse()\n",
    "print(favourite_fruit)"
   ]
  },
  {
   "cell_type": "code",
   "execution_count": 18,
   "id": "41eefe3d",
   "metadata": {},
   "outputs": [
    {
     "name": "stdout",
     "output_type": "stream",
     "text": [
      "[['Papaya', 'Grapefruit', 'Guava', 'Pomegranate'], 'Apple', 'Pineapple', 'Orange', 'Mango', ['Blueberry', 'Watermelon', 'Peach']]\n"
     ]
    }
   ],
   "source": [
    "favourite_fruit[5].remove('Banana')\n",
    "print(favourite_fruit)"
   ]
  },
  {
   "cell_type": "code",
   "execution_count": 19,
   "id": "25b5d9bd",
   "metadata": {},
   "outputs": [
    {
     "name": "stdout",
     "output_type": "stream",
     "text": [
      "[]\n"
     ]
    }
   ],
   "source": [
    "favourite_fruit.clear()\n",
    "print(favourite_fruit)"
   ]
  },
  {
   "cell_type": "code",
   "execution_count": 20,
   "id": "cd6b071b",
   "metadata": {},
   "outputs": [
    {
     "ename": "NameError",
     "evalue": "name 'favourite_fruit' is not defined",
     "output_type": "error",
     "traceback": [
      "\u001b[1;31m---------------------------------------------------------------------------\u001b[0m",
      "\u001b[1;31mNameError\u001b[0m                                 Traceback (most recent call last)",
      "\u001b[1;32m<ipython-input-20-3783b4edf167>\u001b[0m in \u001b[0;36m<module>\u001b[1;34m\u001b[0m\n\u001b[0;32m      1\u001b[0m \u001b[1;32mdel\u001b[0m \u001b[0mfavourite_fruit\u001b[0m\u001b[1;33m\u001b[0m\u001b[1;33m\u001b[0m\u001b[0m\n\u001b[1;32m----> 2\u001b[1;33m \u001b[0mprint\u001b[0m\u001b[1;33m(\u001b[0m\u001b[0mfavourite_fruit\u001b[0m\u001b[1;33m)\u001b[0m\u001b[1;33m\u001b[0m\u001b[1;33m\u001b[0m\u001b[0m\n\u001b[0m",
      "\u001b[1;31mNameError\u001b[0m: name 'favourite_fruit' is not defined"
     ]
    }
   ],
   "source": [
    "del favourite_fruit\n",
    "print(favourite_fruit)"
   ]
  },
  {
   "cell_type": "code",
   "execution_count": 25,
   "id": "4e7540a0",
   "metadata": {},
   "outputs": [
    {
     "name": "stdout",
     "output_type": "stream",
     "text": [
      "[['Banana', 'Blueberry', 'Watermelon', 'Peach'], 'Mango', 'Orange', 'Pineapple', 'Apple', ['Papaya', 'Grapefruit', 'Guava', 'Pomegranate']]\n"
     ]
    }
   ],
   "source": [
    "print(favourite_fruit)"
   ]
  },
  {
   "cell_type": "code",
   "execution_count": 35,
   "id": "dcb12920",
   "metadata": {},
   "outputs": [
    {
     "data": {
      "text/plain": [
       "<function list.index(value, start=0, stop=9223372036854775807, /)>"
      ]
     },
     "execution_count": 35,
     "metadata": {},
     "output_type": "execute_result"
    }
   ],
   "source": [
    "favourite_fruit.index"
   ]
  },
  {
   "cell_type": "code",
   "execution_count": 32,
   "id": "86186844",
   "metadata": {},
   "outputs": [
    {
     "data": {
      "text/plain": [
       "False"
      ]
     },
     "execution_count": 32,
     "metadata": {},
     "output_type": "execute_result"
    }
   ],
   "source": [
    "# Membership opertor\n",
    "'Banana' in favourite_fruit"
   ]
  },
  {
   "cell_type": "code",
   "execution_count": 29,
   "id": "c19a6a05",
   "metadata": {},
   "outputs": [
    {
     "data": {
      "text/plain": [
       "True"
      ]
     },
     "execution_count": 29,
     "metadata": {},
     "output_type": "execute_result"
    }
   ],
   "source": [
    "'Avacado' not in favourite_fruit"
   ]
  },
  {
   "cell_type": "code",
   "execution_count": 1,
   "id": "326b29d1",
   "metadata": {},
   "outputs": [
    {
     "name": "stdout",
     "output_type": "stream",
     "text": [
      "(1, 2, 2, 4, 3, 4, 2, 6, 7, 8)\n",
      "<class 'tuple'>\n"
     ]
    }
   ],
   "source": [
    "# Mutable is changeable\n",
    "# Imputable unchangable\n",
    "# ()\n",
    "numbers=(1,2,2,4,3,4,2,6,7,8)\n",
    "print(numbers)\n",
    "print(type(numbers))"
   ]
  },
  {
   "cell_type": "code",
   "execution_count": 2,
   "id": "86cf48a4",
   "metadata": {},
   "outputs": [
    {
     "ename": "AttributeError",
     "evalue": "'tuple' object has no attribute 'append'",
     "output_type": "error",
     "traceback": [
      "\u001b[1;31m---------------------------------------------------------------------------\u001b[0m",
      "\u001b[1;31mAttributeError\u001b[0m                            Traceback (most recent call last)",
      "\u001b[1;32m<ipython-input-2-c1f0e388d16c>\u001b[0m in \u001b[0;36m<module>\u001b[1;34m\u001b[0m\n\u001b[1;32m----> 1\u001b[1;33m \u001b[0mnumbers\u001b[0m\u001b[1;33m.\u001b[0m\u001b[0mappend\u001b[0m\u001b[1;33m(\u001b[0m\u001b[1;36m5\u001b[0m\u001b[1;33m)\u001b[0m\u001b[1;33m\u001b[0m\u001b[1;33m\u001b[0m\u001b[0m\n\u001b[0m",
      "\u001b[1;31mAttributeError\u001b[0m: 'tuple' object has no attribute 'append'"
     ]
    }
   ],
   "source": [
    "numbers.append(5)"
   ]
  },
  {
   "cell_type": "code",
   "execution_count": 3,
   "id": "9ee62234",
   "metadata": {},
   "outputs": [
    {
     "ename": "AttributeError",
     "evalue": "'tuple' object has no attribute 'insert'",
     "output_type": "error",
     "traceback": [
      "\u001b[1;31m---------------------------------------------------------------------------\u001b[0m",
      "\u001b[1;31mAttributeError\u001b[0m                            Traceback (most recent call last)",
      "\u001b[1;32m<ipython-input-3-f76118f3eeb2>\u001b[0m in \u001b[0;36m<module>\u001b[1;34m\u001b[0m\n\u001b[1;32m----> 1\u001b[1;33m \u001b[0mnumbers\u001b[0m\u001b[1;33m.\u001b[0m\u001b[0minsert\u001b[0m\u001b[1;33m(\u001b[0m\u001b[1;36m1\u001b[0m\u001b[1;33m,\u001b[0m\u001b[1;36m3\u001b[0m\u001b[1;33m)\u001b[0m\u001b[1;33m\u001b[0m\u001b[1;33m\u001b[0m\u001b[0m\n\u001b[0m",
      "\u001b[1;31mAttributeError\u001b[0m: 'tuple' object has no attribute 'insert'"
     ]
    }
   ],
   "source": [
    "numbers.insert(1,3)"
   ]
  },
  {
   "cell_type": "code",
   "execution_count": 4,
   "id": "dabbd3f8",
   "metadata": {},
   "outputs": [
    {
     "ename": "AttributeError",
     "evalue": "'tuple' object has no attribute 'pop'",
     "output_type": "error",
     "traceback": [
      "\u001b[1;31m---------------------------------------------------------------------------\u001b[0m",
      "\u001b[1;31mAttributeError\u001b[0m                            Traceback (most recent call last)",
      "\u001b[1;32m<ipython-input-4-d5ed9e7af2d1>\u001b[0m in \u001b[0;36m<module>\u001b[1;34m\u001b[0m\n\u001b[1;32m----> 1\u001b[1;33m \u001b[0mnumbers\u001b[0m\u001b[1;33m.\u001b[0m\u001b[0mpop\u001b[0m\u001b[1;33m(\u001b[0m\u001b[1;33m)\u001b[0m\u001b[1;33m\u001b[0m\u001b[1;33m\u001b[0m\u001b[0m\n\u001b[0m",
      "\u001b[1;31mAttributeError\u001b[0m: 'tuple' object has no attribute 'pop'"
     ]
    }
   ],
   "source": [
    "numbers.pop()"
   ]
  },
  {
   "cell_type": "code",
   "execution_count": 5,
   "id": "1311ad33",
   "metadata": {},
   "outputs": [
    {
     "data": {
      "text/plain": [
       "3"
      ]
     },
     "execution_count": 5,
     "metadata": {},
     "output_type": "execute_result"
    }
   ],
   "source": [
    "numbers.count(2)"
   ]
  },
  {
   "cell_type": "code",
   "execution_count": 6,
   "id": "523b3af4",
   "metadata": {},
   "outputs": [
    {
     "name": "stdout",
     "output_type": "stream",
     "text": [
      "(1, 2, 2, 4, 3, 4, 2, 6, 7, 8)\n"
     ]
    }
   ],
   "source": [
    "print(numbers)"
   ]
  },
  {
   "cell_type": "code",
   "execution_count": 9,
   "id": "9a9caf17",
   "metadata": {},
   "outputs": [
    {
     "name": "stdout",
     "output_type": "stream",
     "text": [
      "(19, 12, 23, 11, 25, 26)\n"
     ]
    }
   ],
   "source": [
    "number1= (19,12,23,11,25,26)\n",
    "print(number1)"
   ]
  },
  {
   "cell_type": "code",
   "execution_count": 10,
   "id": "6170c2ba",
   "metadata": {},
   "outputs": [
    {
     "name": "stdout",
     "output_type": "stream",
     "text": [
      "(1, 2, 2, 4, 3, 4, 2, 6, 7, 8, 19, 12, 23, 11, 25, 26)\n"
     ]
    }
   ],
   "source": [
    "number_list=numbers+number1\n",
    "print(number_list)"
   ]
  },
  {
   "cell_type": "code",
   "execution_count": 11,
   "id": "75cb73b4",
   "metadata": {},
   "outputs": [
    {
     "data": {
      "text/plain": [
       "8"
      ]
     },
     "execution_count": 11,
     "metadata": {},
     "output_type": "execute_result"
    }
   ],
   "source": [
    "3+5"
   ]
  },
  {
   "cell_type": "code",
   "execution_count": 12,
   "id": "4cd2df7d",
   "metadata": {},
   "outputs": [
    {
     "data": {
      "text/plain": [
       "'35'"
      ]
     },
     "execution_count": 12,
     "metadata": {},
     "output_type": "execute_result"
    }
   ],
   "source": [
    "'3'+'5'"
   ]
  },
  {
   "cell_type": "code",
   "execution_count": 13,
   "id": "9572fd3b",
   "metadata": {},
   "outputs": [
    {
     "ename": "TypeError",
     "evalue": "unsupported operand type(s) for -: 'tuple' and 'tuple'",
     "output_type": "error",
     "traceback": [
      "\u001b[1;31m---------------------------------------------------------------------------\u001b[0m",
      "\u001b[1;31mTypeError\u001b[0m                                 Traceback (most recent call last)",
      "\u001b[1;32m<ipython-input-13-0dcb0f077265>\u001b[0m in \u001b[0;36m<module>\u001b[1;34m\u001b[0m\n\u001b[1;32m----> 1\u001b[1;33m \u001b[0mnumbers\u001b[0m\u001b[1;33m-\u001b[0m\u001b[0mnumber1\u001b[0m\u001b[1;33m\u001b[0m\u001b[1;33m\u001b[0m\u001b[0m\n\u001b[0m",
      "\u001b[1;31mTypeError\u001b[0m: unsupported operand type(s) for -: 'tuple' and 'tuple'"
     ]
    }
   ],
   "source": [
    "numbers-number1"
   ]
  },
  {
   "cell_type": "code",
   "execution_count": 20,
   "id": "345d14c1",
   "metadata": {},
   "outputs": [
    {
     "ename": "TypeError",
     "evalue": "unsupported operand type(s) for -: 'tuple' and 'tuple'",
     "output_type": "error",
     "traceback": [
      "\u001b[1;31m---------------------------------------------------------------------------\u001b[0m",
      "\u001b[1;31mTypeError\u001b[0m                                 Traceback (most recent call last)",
      "\u001b[1;32m<ipython-input-20-d6bc27ba4e4d>\u001b[0m in \u001b[0;36m<module>\u001b[1;34m\u001b[0m\n\u001b[1;32m----> 1\u001b[1;33m \u001b[0mnumber_list1\u001b[0m\u001b[1;33m=\u001b[0m \u001b[0mnumber1\u001b[0m \u001b[1;33m-\u001b[0m\u001b[0mnumbers\u001b[0m\u001b[1;33m\u001b[0m\u001b[1;33m\u001b[0m\u001b[0m\n\u001b[0m\u001b[0;32m      2\u001b[0m \u001b[0mprint\u001b[0m\u001b[1;33m(\u001b[0m\u001b[0mnumber_list1\u001b[0m\u001b[1;33m)\u001b[0m\u001b[1;33m\u001b[0m\u001b[1;33m\u001b[0m\u001b[0m\n",
      "\u001b[1;31mTypeError\u001b[0m: unsupported operand type(s) for -: 'tuple' and 'tuple'"
     ]
    }
   ],
   "source": [
    "number_list1= number1 -numbers\n",
    "print(number_list1)"
   ]
  },
  {
   "cell_type": "code",
   "execution_count": 15,
   "id": "b077a460",
   "metadata": {},
   "outputs": [
    {
     "data": {
      "text/plain": [
       "15"
      ]
     },
     "execution_count": 15,
     "metadata": {},
     "output_type": "execute_result"
    }
   ],
   "source": [
    "5*3"
   ]
  },
  {
   "cell_type": "code",
   "execution_count": 16,
   "id": "0a817ad7",
   "metadata": {},
   "outputs": [
    {
     "data": {
      "text/plain": [
       "'555'"
      ]
     },
     "execution_count": 16,
     "metadata": {},
     "output_type": "execute_result"
    }
   ],
   "source": [
    "'5'*3"
   ]
  },
  {
   "cell_type": "code",
   "execution_count": 27,
   "id": "2067b3dc",
   "metadata": {},
   "outputs": [
    {
     "ename": "TypeError",
     "evalue": "unsupported operand type(s) for /: 'tuple' and 'int'",
     "output_type": "error",
     "traceback": [
      "\u001b[1;31m---------------------------------------------------------------------------\u001b[0m",
      "\u001b[1;31mTypeError\u001b[0m                                 Traceback (most recent call last)",
      "\u001b[1;32m<ipython-input-27-ea35c03be08a>\u001b[0m in \u001b[0;36m<module>\u001b[1;34m\u001b[0m\n\u001b[1;32m----> 1\u001b[1;33m \u001b[0mnumber1\u001b[0m\u001b[1;33m/\u001b[0m\u001b[1;36m4\u001b[0m\u001b[1;33m\u001b[0m\u001b[1;33m\u001b[0m\u001b[0m\n\u001b[0m",
      "\u001b[1;31mTypeError\u001b[0m: unsupported operand type(s) for /: 'tuple' and 'int'"
     ]
    }
   ],
   "source": [
    "number1/4"
   ]
  },
  {
   "cell_type": "code",
   "execution_count": 30,
   "id": "3fb0cec7",
   "metadata": {},
   "outputs": [
    {
     "data": {
      "text/plain": [
       "(19, 12, 23, 11, 25, 26)"
      ]
     },
     "execution_count": 30,
     "metadata": {},
     "output_type": "execute_result"
    }
   ],
   "source": [
    "number1"
   ]
  },
  {
   "cell_type": "code",
   "execution_count": 28,
   "id": "527f5782",
   "metadata": {},
   "outputs": [
    {
     "data": {
      "text/plain": [
       "19"
      ]
     },
     "execution_count": 28,
     "metadata": {},
     "output_type": "execute_result"
    }
   ],
   "source": [
    "number1[0]"
   ]
  },
  {
   "cell_type": "code",
   "execution_count": 29,
   "id": "a84a602e",
   "metadata": {},
   "outputs": [
    {
     "data": {
      "text/plain": [
       "0"
      ]
     },
     "execution_count": 29,
     "metadata": {},
     "output_type": "execute_result"
    }
   ],
   "source": [
    "number1.index(19)"
   ]
  },
  {
   "cell_type": "code",
   "execution_count": 31,
   "id": "4139b8ca",
   "metadata": {},
   "outputs": [
    {
     "ename": "ValueError",
     "evalue": "tuple.index(x): x not in tuple",
     "output_type": "error",
     "traceback": [
      "\u001b[1;31m---------------------------------------------------------------------------\u001b[0m",
      "\u001b[1;31mValueError\u001b[0m                                Traceback (most recent call last)",
      "\u001b[1;32m<ipython-input-31-e1a308419f24>\u001b[0m in \u001b[0;36m<module>\u001b[1;34m\u001b[0m\n\u001b[1;32m----> 1\u001b[1;33m \u001b[0mnumber1\u001b[0m\u001b[1;33m.\u001b[0m\u001b[0mindex\u001b[0m\u001b[1;33m(\u001b[0m\u001b[1;36m20\u001b[0m\u001b[1;33m)\u001b[0m\u001b[1;33m\u001b[0m\u001b[1;33m\u001b[0m\u001b[0m\n\u001b[0m",
      "\u001b[1;31mValueError\u001b[0m: tuple.index(x): x not in tuple"
     ]
    }
   ],
   "source": [
    "number1.index(20)"
   ]
  },
  {
   "cell_type": "code",
   "execution_count": 36,
   "id": "548ca7bf",
   "metadata": {},
   "outputs": [
    {
     "data": {
      "text/plain": [
       "1"
      ]
     },
     "execution_count": 36,
     "metadata": {},
     "output_type": "execute_result"
    }
   ],
   "source": [
    "numbers.index(2)"
   ]
  },
  {
   "cell_type": "code",
   "execution_count": 38,
   "id": "69cdac54",
   "metadata": {},
   "outputs": [
    {
     "data": {
      "text/plain": [
       "['Mango', 'Orange', 'Pineapple', 'Apple']"
      ]
     },
     "execution_count": 38,
     "metadata": {},
     "output_type": "execute_result"
    }
   ],
   "source": [
    "favourite_fruit"
   ]
  },
  {
   "cell_type": "code",
   "execution_count": 39,
   "id": "e9d50e09",
   "metadata": {},
   "outputs": [
    {
     "data": {
      "text/plain": [
       "('Grapes', 'Apricot')"
      ]
     },
     "execution_count": 39,
     "metadata": {},
     "output_type": "execute_result"
    }
   ],
   "source": [
    "fruits = ('Grapes','Apricot')\n",
    "fruits"
   ]
  },
  {
   "cell_type": "code",
   "execution_count": 40,
   "id": "ee329a49",
   "metadata": {},
   "outputs": [],
   "source": [
    "favourite_fruit.append(fruits)"
   ]
  },
  {
   "cell_type": "code",
   "execution_count": 41,
   "id": "0e6386de",
   "metadata": {},
   "outputs": [
    {
     "data": {
      "text/plain": [
       "['Mango', 'Orange', 'Pineapple', 'Apple', ('Grapes', 'Apricot')]"
      ]
     },
     "execution_count": 41,
     "metadata": {},
     "output_type": "execute_result"
    }
   ],
   "source": [
    "favourite_fruit"
   ]
  },
  {
   "cell_type": "code",
   "execution_count": 43,
   "id": "ffc2f785",
   "metadata": {},
   "outputs": [
    {
     "ename": "TypeError",
     "evalue": "can only concatenate tuple (not \"list\") to tuple",
     "output_type": "error",
     "traceback": [
      "\u001b[1;31m---------------------------------------------------------------------------\u001b[0m",
      "\u001b[1;31mTypeError\u001b[0m                                 Traceback (most recent call last)",
      "\u001b[1;32m<ipython-input-43-d59c9d1117f0>\u001b[0m in \u001b[0;36m<module>\u001b[1;34m\u001b[0m\n\u001b[1;32m----> 1\u001b[1;33m \u001b[0mfruits_list\u001b[0m\u001b[1;33m=\u001b[0m\u001b[0mfruits\u001b[0m \u001b[1;33m+\u001b[0m \u001b[0mfavourite_fruit\u001b[0m\u001b[1;33m\u001b[0m\u001b[1;33m\u001b[0m\u001b[0m\n\u001b[0m\u001b[0;32m      2\u001b[0m \u001b[0mprint\u001b[0m\u001b[1;33m(\u001b[0m\u001b[0mfruits_list\u001b[0m\u001b[1;33m)\u001b[0m\u001b[1;33m\u001b[0m\u001b[1;33m\u001b[0m\u001b[0m\n",
      "\u001b[1;31mTypeError\u001b[0m: can only concatenate tuple (not \"list\") to tuple"
     ]
    }
   ],
   "source": [
    "fruits_list= fruits + favourite_fruit \n",
    "print(fruits_list)"
   ]
  },
  {
   "cell_type": "code",
   "execution_count": 45,
   "id": "cbe74e4e",
   "metadata": {},
   "outputs": [
    {
     "data": {
      "text/plain": [
       "(19, 12, 23, 11, 25, 26)"
      ]
     },
     "execution_count": 45,
     "metadata": {},
     "output_type": "execute_result"
    }
   ],
   "source": [
    "number1"
   ]
  },
  {
   "cell_type": "code",
   "execution_count": 46,
   "id": "ed6acdb3",
   "metadata": {},
   "outputs": [
    {
     "data": {
      "text/plain": [
       "26"
      ]
     },
     "execution_count": 46,
     "metadata": {},
     "output_type": "execute_result"
    }
   ],
   "source": [
    "max(number1)"
   ]
  },
  {
   "cell_type": "code",
   "execution_count": 47,
   "id": "cd85d1d6",
   "metadata": {},
   "outputs": [
    {
     "data": {
      "text/plain": [
       "11"
      ]
     },
     "execution_count": 47,
     "metadata": {},
     "output_type": "execute_result"
    }
   ],
   "source": [
    "min(number1)"
   ]
  },
  {
   "cell_type": "code",
   "execution_count": 48,
   "id": "6c898d9b",
   "metadata": {},
   "outputs": [
    {
     "data": {
      "text/plain": [
       "6"
      ]
     },
     "execution_count": 48,
     "metadata": {},
     "output_type": "execute_result"
    }
   ],
   "source": [
    "len(number1)"
   ]
  },
  {
   "cell_type": "code",
   "execution_count": 53,
   "id": "cd3ba187",
   "metadata": {},
   "outputs": [
    {
     "data": {
      "text/plain": [
       "[26, 25, 23, 19, 12, 11]"
      ]
     },
     "execution_count": 53,
     "metadata": {},
     "output_type": "execute_result"
    }
   ],
   "source": [
    "sorted(number1,reverse = True)"
   ]
  },
  {
   "cell_type": "code",
   "execution_count": 54,
   "id": "90141d63",
   "metadata": {},
   "outputs": [
    {
     "data": {
      "text/plain": [
       "116"
      ]
     },
     "execution_count": 54,
     "metadata": {},
     "output_type": "execute_result"
    }
   ],
   "source": [
    "sum(number1)"
   ]
  },
  {
   "cell_type": "code",
   "execution_count": 69,
   "id": "797a6315",
   "metadata": {},
   "outputs": [
    {
     "data": {
      "text/plain": [
       "3"
      ]
     },
     "execution_count": 69,
     "metadata": {},
     "output_type": "execute_result"
    }
   ],
   "source": [
    "numbers.count(2)"
   ]
  },
  {
   "cell_type": "code",
   "execution_count": 82,
   "id": "a899c672",
   "metadata": {},
   "outputs": [
    {
     "name": "stdout",
     "output_type": "stream",
     "text": [
      "<class 'list'>\n",
      "[67, 45]\n"
     ]
    }
   ],
   "source": [
    "num1,*others = (6,67,45)\n",
    "print(type(others))\n",
    "print(others)"
   ]
  },
  {
   "cell_type": "code",
   "execution_count": 85,
   "id": "d9fa0d8f",
   "metadata": {},
   "outputs": [
    {
     "data": {
      "text/plain": [
       "list"
      ]
     },
     "execution_count": 85,
     "metadata": {},
     "output_type": "execute_result"
    }
   ],
   "source": [
    "type(list(number1))"
   ]
  },
  {
   "cell_type": "code",
   "execution_count": null,
   "id": "731dd6d6",
   "metadata": {},
   "outputs": [],
   "source": []
  }
 ],
 "metadata": {
  "kernelspec": {
   "display_name": "Python 3",
   "language": "python",
   "name": "python3"
  },
  "language_info": {
   "codemirror_mode": {
    "name": "ipython",
    "version": 3
   },
   "file_extension": ".py",
   "mimetype": "text/x-python",
   "name": "python",
   "nbconvert_exporter": "python",
   "pygments_lexer": "ipython3",
   "version": "3.8.8"
  }
 },
 "nbformat": 4,
 "nbformat_minor": 5
}
